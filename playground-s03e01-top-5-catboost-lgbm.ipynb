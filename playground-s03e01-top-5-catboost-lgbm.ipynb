{
 "cells": [
  {
   "cell_type": "code",
   "execution_count": 1,
   "id": "499be69a",
   "metadata": {
    "_cell_guid": "b1076dfc-b9ad-4769-8c92-a6c4dae69d19",
    "_uuid": "8f2839f25d086af736a60e9eeb907d3b93b6e0e5",
    "execution": {
     "iopub.execute_input": "2023-01-06T16:32:36.231287Z",
     "iopub.status.busy": "2023-01-06T16:32:36.230623Z",
     "iopub.status.idle": "2023-01-06T16:32:36.247597Z",
     "shell.execute_reply": "2023-01-06T16:32:36.246310Z"
    },
    "papermill": {
     "duration": 0.032273,
     "end_time": "2023-01-06T16:32:36.250240",
     "exception": false,
     "start_time": "2023-01-06T16:32:36.217967",
     "status": "completed"
    },
    "tags": []
   },
   "outputs": [
    {
     "name": "stdout",
     "output_type": "stream",
     "text": [
      "/kaggle/input/playground-series-s3e1/sample_submission.csv\n",
      "/kaggle/input/playground-series-s3e1/train.csv\n",
      "/kaggle/input/playground-series-s3e1/test.csv\n"
     ]
    }
   ],
   "source": [
    "# This Python 3 environment comes with many helpful analytics libraries installed\n",
    "# https://github.com/mithunraj984\n",
    "# For example, here's several helpful packages to load\n",
    "\n",
    "import numpy as np # linear algebra\n",
    "import pandas as pd # data processing, CSV file I/O (e.g. pd.read_csv)\n",
    "\n",
    "# Input data files are available in the read-only \"../input/\" directory\n",
    "# For example, running this (by clicking run or pressing Shift+Enter) will list all files under the input directory\n",
    "\n",
    "import os\n",
    "for dirname, _, filenames in os.walk('/kaggle/input'):\n",
    "    for filename in filenames:\n",
    "        print(os.path.join(dirname, filename))\n",
    "\n",
    "# You can write up to 20GB to the current directory (/kaggle/working/) that gets preserved as output when you create a version using \"Save & Run All\" \n",
    "# You can also write temporary files to /kaggle/temp/, but they won't be saved outside of the current session"
   ]
  },
  {
   "cell_type": "code",
   "execution_count": 2,
   "id": "23aa91f7",
   "metadata": {
    "execution": {
     "iopub.execute_input": "2023-01-06T16:32:36.270665Z",
     "iopub.status.busy": "2023-01-06T16:32:36.269715Z",
     "iopub.status.idle": "2023-01-06T16:32:39.304211Z",
     "shell.execute_reply": "2023-01-06T16:32:39.303027Z"
    },
    "papermill": {
     "duration": 3.048057,
     "end_time": "2023-01-06T16:32:39.307391",
     "exception": false,
     "start_time": "2023-01-06T16:32:36.259334",
     "status": "completed"
    },
    "tags": []
   },
   "outputs": [],
   "source": [
    "import matplotlib.pyplot as plt\n",
    "from pandas_profiling import ProfileReport\n",
    "\n",
    "from sklearn.datasets import fetch_california_housing\n",
    "from sklearn.model_selection import KFold\n",
    "from sklearn.metrics import mean_squared_error\n",
    "from tqdm import tqdm\n",
    "\n",
    "%matplotlib inline"
   ]
  },
  {
   "cell_type": "code",
   "execution_count": 3,
   "id": "12bb8a5e",
   "metadata": {
    "execution": {
     "iopub.execute_input": "2023-01-06T16:32:39.326533Z",
     "iopub.status.busy": "2023-01-06T16:32:39.325424Z",
     "iopub.status.idle": "2023-01-06T16:32:39.567353Z",
     "shell.execute_reply": "2023-01-06T16:32:39.566495Z"
    },
    "papermill": {
     "duration": 0.253976,
     "end_time": "2023-01-06T16:32:39.569791",
     "exception": false,
     "start_time": "2023-01-06T16:32:39.315815",
     "status": "completed"
    },
    "tags": []
   },
   "outputs": [],
   "source": [
    "train_df = pd.read_csv('/kaggle/input/playground-series-s3e1/train.csv')\n",
    "test_df = pd.read_csv('/kaggle/input/playground-series-s3e1/test.csv')\n",
    "submission_df = pd.read_csv('/kaggle/input/playground-series-s3e1/sample_submission.csv')\n",
    "train_df = train_df.drop('id', axis=1)\n",
    "test_df = test_df.drop('id', axis=1)"
   ]
  },
  {
   "cell_type": "markdown",
   "id": "e9978aa2",
   "metadata": {
    "papermill": {
     "duration": 0.007798,
     "end_time": "2023-01-06T16:32:39.585896",
     "exception": false,
     "start_time": "2023-01-06T16:32:39.578098",
     "status": "completed"
    },
    "tags": []
   },
   "source": [
    "## EDA"
   ]
  },
  {
   "cell_type": "code",
   "execution_count": 4,
   "id": "1e94daa5",
   "metadata": {
    "execution": {
     "iopub.execute_input": "2023-01-06T16:32:39.604498Z",
     "iopub.status.busy": "2023-01-06T16:32:39.603561Z",
     "iopub.status.idle": "2023-01-06T16:32:39.625810Z",
     "shell.execute_reply": "2023-01-06T16:32:39.625011Z"
    },
    "papermill": {
     "duration": 0.033777,
     "end_time": "2023-01-06T16:32:39.627873",
     "exception": false,
     "start_time": "2023-01-06T16:32:39.594096",
     "status": "completed"
    },
    "tags": []
   },
   "outputs": [
    {
     "data": {
      "text/html": [
       "<div>\n",
       "<style scoped>\n",
       "    .dataframe tbody tr th:only-of-type {\n",
       "        vertical-align: middle;\n",
       "    }\n",
       "\n",
       "    .dataframe tbody tr th {\n",
       "        vertical-align: top;\n",
       "    }\n",
       "\n",
       "    .dataframe thead th {\n",
       "        text-align: right;\n",
       "    }\n",
       "</style>\n",
       "<table border=\"1\" class=\"dataframe\">\n",
       "  <thead>\n",
       "    <tr style=\"text-align: right;\">\n",
       "      <th></th>\n",
       "      <th>MedInc</th>\n",
       "      <th>HouseAge</th>\n",
       "      <th>AveRooms</th>\n",
       "      <th>AveBedrms</th>\n",
       "      <th>Population</th>\n",
       "      <th>AveOccup</th>\n",
       "      <th>Latitude</th>\n",
       "      <th>Longitude</th>\n",
       "      <th>MedHouseVal</th>\n",
       "    </tr>\n",
       "  </thead>\n",
       "  <tbody>\n",
       "    <tr>\n",
       "      <th>0</th>\n",
       "      <td>2.3859</td>\n",
       "      <td>15.0</td>\n",
       "      <td>3.827160</td>\n",
       "      <td>1.112100</td>\n",
       "      <td>1280.0</td>\n",
       "      <td>2.486989</td>\n",
       "      <td>34.60</td>\n",
       "      <td>-120.12</td>\n",
       "      <td>0.980</td>\n",
       "    </tr>\n",
       "    <tr>\n",
       "      <th>1</th>\n",
       "      <td>3.7188</td>\n",
       "      <td>17.0</td>\n",
       "      <td>6.013373</td>\n",
       "      <td>1.054217</td>\n",
       "      <td>1504.0</td>\n",
       "      <td>3.813084</td>\n",
       "      <td>38.69</td>\n",
       "      <td>-121.22</td>\n",
       "      <td>0.946</td>\n",
       "    </tr>\n",
       "    <tr>\n",
       "      <th>2</th>\n",
       "      <td>4.7750</td>\n",
       "      <td>27.0</td>\n",
       "      <td>6.535604</td>\n",
       "      <td>1.103175</td>\n",
       "      <td>1061.0</td>\n",
       "      <td>2.464602</td>\n",
       "      <td>34.71</td>\n",
       "      <td>-120.45</td>\n",
       "      <td>1.576</td>\n",
       "    </tr>\n",
       "    <tr>\n",
       "      <th>3</th>\n",
       "      <td>2.4138</td>\n",
       "      <td>16.0</td>\n",
       "      <td>3.350203</td>\n",
       "      <td>0.965432</td>\n",
       "      <td>1255.0</td>\n",
       "      <td>2.089286</td>\n",
       "      <td>32.66</td>\n",
       "      <td>-117.09</td>\n",
       "      <td>1.336</td>\n",
       "    </tr>\n",
       "    <tr>\n",
       "      <th>4</th>\n",
       "      <td>3.7500</td>\n",
       "      <td>52.0</td>\n",
       "      <td>4.284404</td>\n",
       "      <td>1.069246</td>\n",
       "      <td>1793.0</td>\n",
       "      <td>1.604790</td>\n",
       "      <td>37.80</td>\n",
       "      <td>-122.41</td>\n",
       "      <td>4.500</td>\n",
       "    </tr>\n",
       "  </tbody>\n",
       "</table>\n",
       "</div>"
      ],
      "text/plain": [
       "   MedInc  HouseAge  AveRooms  AveBedrms  Population  AveOccup  Latitude  \\\n",
       "0  2.3859      15.0  3.827160   1.112100      1280.0  2.486989     34.60   \n",
       "1  3.7188      17.0  6.013373   1.054217      1504.0  3.813084     38.69   \n",
       "2  4.7750      27.0  6.535604   1.103175      1061.0  2.464602     34.71   \n",
       "3  2.4138      16.0  3.350203   0.965432      1255.0  2.089286     32.66   \n",
       "4  3.7500      52.0  4.284404   1.069246      1793.0  1.604790     37.80   \n",
       "\n",
       "   Longitude  MedHouseVal  \n",
       "0    -120.12        0.980  \n",
       "1    -121.22        0.946  \n",
       "2    -120.45        1.576  \n",
       "3    -117.09        1.336  \n",
       "4    -122.41        4.500  "
      ]
     },
     "execution_count": 4,
     "metadata": {},
     "output_type": "execute_result"
    }
   ],
   "source": [
    "train_df.head()"
   ]
  },
  {
   "cell_type": "code",
   "execution_count": 5,
   "id": "fa039528",
   "metadata": {
    "execution": {
     "iopub.execute_input": "2023-01-06T16:32:39.647238Z",
     "iopub.status.busy": "2023-01-06T16:32:39.646518Z",
     "iopub.status.idle": "2023-01-06T16:32:39.652757Z",
     "shell.execute_reply": "2023-01-06T16:32:39.651991Z"
    },
    "papermill": {
     "duration": 0.018268,
     "end_time": "2023-01-06T16:32:39.654762",
     "exception": false,
     "start_time": "2023-01-06T16:32:39.636494",
     "status": "completed"
    },
    "tags": []
   },
   "outputs": [
    {
     "data": {
      "text/plain": [
       "(37137, 24759, 24759)"
      ]
     },
     "execution_count": 5,
     "metadata": {},
     "output_type": "execute_result"
    }
   ],
   "source": [
    "train_df.shape[0], test_df.shape[0], submission_df.shape[0]"
   ]
  },
  {
   "cell_type": "code",
   "execution_count": 6,
   "id": "72e45851",
   "metadata": {
    "execution": {
     "iopub.execute_input": "2023-01-06T16:32:39.674402Z",
     "iopub.status.busy": "2023-01-06T16:32:39.673656Z",
     "iopub.status.idle": "2023-01-06T16:32:39.681423Z",
     "shell.execute_reply": "2023-01-06T16:32:39.680614Z"
    },
    "papermill": {
     "duration": 0.020392,
     "end_time": "2023-01-06T16:32:39.683832",
     "exception": false,
     "start_time": "2023-01-06T16:32:39.663440",
     "status": "completed"
    },
    "tags": []
   },
   "outputs": [],
   "source": [
    "profile = ProfileReport(train_df, title=\"Pandas Profiling Report\")\n",
    "# profile"
   ]
  },
  {
   "cell_type": "code",
   "execution_count": 7,
   "id": "7e30a0a8",
   "metadata": {
    "execution": {
     "iopub.execute_input": "2023-01-06T16:32:39.704413Z",
     "iopub.status.busy": "2023-01-06T16:32:39.703837Z",
     "iopub.status.idle": "2023-01-06T16:33:01.603378Z",
     "shell.execute_reply": "2023-01-06T16:33:01.602021Z"
    },
    "papermill": {
     "duration": 21.915748,
     "end_time": "2023-01-06T16:33:01.609350",
     "exception": false,
     "start_time": "2023-01-06T16:32:39.693602",
     "status": "completed"
    },
    "tags": []
   },
   "outputs": [
    {
     "data": {
      "application/vnd.jupyter.widget-view+json": {
       "model_id": "c24b4b6393854ee19b739d863db78ad2",
       "version_major": 2,
       "version_minor": 0
      },
      "text/plain": [
       "Summarize dataset:   0%|          | 0/5 [00:00<?, ?it/s]"
      ]
     },
     "metadata": {},
     "output_type": "display_data"
    },
    {
     "name": "stdout",
     "output_type": "stream",
     "text": [
      "MedHouseVal    1.000000\n",
      "MedInc         0.701925\n",
      "AveRooms       0.366727\n",
      "HouseAge       0.103210\n",
      "Population    -0.038479\n",
      "AveOccup      -0.048475\n",
      "Longitude     -0.056742\n",
      "AveBedrms     -0.067487\n",
      "Latitude      -0.116499\n",
      "Name: MedHouseVal, dtype: float64 \n",
      "\n",
      "\n",
      "MedHouseVal    1.000000\n",
      "MedInc         0.697265\n",
      "AveRooms       0.309516\n",
      "HouseAge       0.062783\n",
      "Population    -0.042108\n",
      "Longitude     -0.113271\n",
      "AveBedrms     -0.121262\n",
      "Latitude      -0.132997\n",
      "AveOccup      -0.224818\n",
      "Name: MedHouseVal, dtype: float64 \n",
      "\n",
      "\n"
     ]
    }
   ],
   "source": [
    "correlations = profile.description_set[\"correlations\"]\n",
    "print(correlations['pearson']['MedHouseVal'].sort_values(ascending=False), '\\n\\n')\n",
    "print(correlations['spearman']['MedHouseVal'].sort_values(ascending=False), '\\n\\n')"
   ]
  },
  {
   "cell_type": "code",
   "execution_count": 8,
   "id": "7c0557d3",
   "metadata": {
    "execution": {
     "iopub.execute_input": "2023-01-06T16:33:01.629780Z",
     "iopub.status.busy": "2023-01-06T16:33:01.629322Z",
     "iopub.status.idle": "2023-01-06T16:33:14.845209Z",
     "shell.execute_reply": "2023-01-06T16:33:14.843753Z"
    },
    "papermill": {
     "duration": 13.229113,
     "end_time": "2023-01-06T16:33:14.847910",
     "exception": false,
     "start_time": "2023-01-06T16:33:01.618797",
     "status": "completed"
    },
    "tags": []
   },
   "outputs": [
    {
     "name": "stdout",
     "output_type": "stream",
     "text": [
      "Collecting dython\r\n",
      "  Downloading dython-0.7.2-py3-none-any.whl (22 kB)\r\n",
      "Requirement already satisfied: scipy>=1.7.1 in /opt/conda/lib/python3.7/site-packages (from dython) (1.7.3)\r\n",
      "Requirement already satisfied: matplotlib>=3.4.3 in /opt/conda/lib/python3.7/site-packages (from dython) (3.5.3)\r\n",
      "Requirement already satisfied: pandas>=1.3.2 in /opt/conda/lib/python3.7/site-packages (from dython) (1.3.5)\r\n",
      "Requirement already satisfied: scikit-learn>=0.24.2 in /opt/conda/lib/python3.7/site-packages (from dython) (1.0.2)\r\n",
      "Requirement already satisfied: numpy>=1.19.5 in /opt/conda/lib/python3.7/site-packages (from dython) (1.21.6)\r\n",
      "Requirement already satisfied: scikit-plot>=0.3.7 in /opt/conda/lib/python3.7/site-packages (from dython) (0.3.7)\r\n",
      "Requirement already satisfied: seaborn>=0.11.0 in /opt/conda/lib/python3.7/site-packages (from dython) (0.11.2)\r\n",
      "Requirement already satisfied: psutil>=5.9.1 in /opt/conda/lib/python3.7/site-packages (from dython) (5.9.1)\r\n",
      "Requirement already satisfied: kiwisolver>=1.0.1 in /opt/conda/lib/python3.7/site-packages (from matplotlib>=3.4.3->dython) (1.4.3)\r\n",
      "Requirement already satisfied: packaging>=20.0 in /opt/conda/lib/python3.7/site-packages (from matplotlib>=3.4.3->dython) (21.3)\r\n",
      "Requirement already satisfied: cycler>=0.10 in /opt/conda/lib/python3.7/site-packages (from matplotlib>=3.4.3->dython) (0.11.0)\r\n",
      "Requirement already satisfied: pillow>=6.2.0 in /opt/conda/lib/python3.7/site-packages (from matplotlib>=3.4.3->dython) (9.1.1)\r\n",
      "Requirement already satisfied: pyparsing>=2.2.1 in /opt/conda/lib/python3.7/site-packages (from matplotlib>=3.4.3->dython) (3.0.9)\r\n",
      "Requirement already satisfied: fonttools>=4.22.0 in /opt/conda/lib/python3.7/site-packages (from matplotlib>=3.4.3->dython) (4.33.3)\r\n",
      "Requirement already satisfied: python-dateutil>=2.7 in /opt/conda/lib/python3.7/site-packages (from matplotlib>=3.4.3->dython) (2.8.2)\r\n",
      "Requirement already satisfied: pytz>=2017.3 in /opt/conda/lib/python3.7/site-packages (from pandas>=1.3.2->dython) (2022.1)\r\n",
      "Requirement already satisfied: threadpoolctl>=2.0.0 in /opt/conda/lib/python3.7/site-packages (from scikit-learn>=0.24.2->dython) (3.1.0)\r\n",
      "Requirement already satisfied: joblib>=0.11 in /opt/conda/lib/python3.7/site-packages (from scikit-learn>=0.24.2->dython) (1.0.1)\r\n",
      "Requirement already satisfied: typing-extensions in /opt/conda/lib/python3.7/site-packages (from kiwisolver>=1.0.1->matplotlib>=3.4.3->dython) (4.1.1)\r\n",
      "Requirement already satisfied: six>=1.5 in /opt/conda/lib/python3.7/site-packages (from python-dateutil>=2.7->matplotlib>=3.4.3->dython) (1.15.0)\r\n",
      "Installing collected packages: dython\r\n",
      "Successfully installed dython-0.7.2\r\n",
      "\u001b[33mWARNING: Running pip as the 'root' user can result in broken permissions and conflicting behaviour with the system package manager. It is recommended to use a virtual environment instead: https://pip.pypa.io/warnings/venv\u001b[0m\u001b[33m\r\n",
      "\u001b[0m"
     ]
    }
   ],
   "source": [
    "!pip install dython"
   ]
  },
  {
   "cell_type": "code",
   "execution_count": 9,
   "id": "77a7ffef",
   "metadata": {
    "execution": {
     "iopub.execute_input": "2023-01-06T16:33:14.869930Z",
     "iopub.status.busy": "2023-01-06T16:33:14.869454Z",
     "iopub.status.idle": "2023-01-06T16:33:16.053597Z",
     "shell.execute_reply": "2023-01-06T16:33:16.052463Z"
    },
    "papermill": {
     "duration": 1.198652,
     "end_time": "2023-01-06T16:33:16.056247",
     "exception": false,
     "start_time": "2023-01-06T16:33:14.857595",
     "status": "completed"
    },
    "tags": []
   },
   "outputs": [
    {
     "data": {
      "image/png": "[encoded data removed]",
      "text/plain": [
       "<Figure size 432x288 with 2 Axes>"
      ]
     },
     "metadata": {
      "needs_background": "light"
     },
     "output_type": "display_data"
    },
    {
     "data": {
      "text/html": [
       "<div>\n",
       "<style scoped>\n",
       "    .dataframe tbody tr th:only-of-type {\n",
       "        vertical-align: middle;\n",
       "    }\n",
       "\n",
       "    .dataframe tbody tr th {\n",
       "        vertical-align: top;\n",
       "    }\n",
       "\n",
       "    .dataframe thead th {\n",
       "        text-align: right;\n",
       "    }\n",
       "</style>\n",
       "<table border=\"1\" class=\"dataframe\">\n",
       "  <thead>\n",
       "    <tr style=\"text-align: right;\">\n",
       "      <th></th>\n",
       "      <th>MedInc</th>\n",
       "      <th>HouseAge</th>\n",
       "      <th>AveRooms</th>\n",
       "      <th>AveBedrms</th>\n",
       "      <th>Population</th>\n",
       "      <th>AveOccup</th>\n",
       "      <th>Latitude</th>\n",
       "      <th>Longitude</th>\n",
       "      <th>MedHouseVal</th>\n",
       "    </tr>\n",
       "  </thead>\n",
       "  <tbody>\n",
       "    <tr>\n",
       "      <th>MedInc</th>\n",
       "      <td>1.000000</td>\n",
       "      <td>-0.080542</td>\n",
       "      <td>0.699994</td>\n",
       "      <td>-0.127169</td>\n",
       "      <td>-0.008552</td>\n",
       "      <td>-0.000885</td>\n",
       "      <td>-0.060463</td>\n",
       "      <td>-0.043742</td>\n",
       "      <td>0.701925</td>\n",
       "    </tr>\n",
       "    <tr>\n",
       "      <th>HouseAge</th>\n",
       "      <td>-0.080542</td>\n",
       "      <td>1.000000</td>\n",
       "      <td>-0.156625</td>\n",
       "      <td>-0.056960</td>\n",
       "      <td>-0.235459</td>\n",
       "      <td>-0.002792</td>\n",
       "      <td>0.021071</td>\n",
       "      <td>-0.090394</td>\n",
       "      <td>0.103210</td>\n",
       "    </tr>\n",
       "    <tr>\n",
       "      <th>AveRooms</th>\n",
       "      <td>0.699994</td>\n",
       "      <td>-0.156625</td>\n",
       "      <td>1.000000</td>\n",
       "      <td>0.174753</td>\n",
       "      <td>-0.038099</td>\n",
       "      <td>0.023858</td>\n",
       "      <td>0.095169</td>\n",
       "      <td>-0.088184</td>\n",
       "      <td>0.366727</td>\n",
       "    </tr>\n",
       "    <tr>\n",
       "      <th>AveBedrms</th>\n",
       "      <td>-0.127169</td>\n",
       "      <td>-0.056960</td>\n",
       "      <td>0.174753</td>\n",
       "      <td>1.000000</td>\n",
       "      <td>-0.007120</td>\n",
       "      <td>-0.009257</td>\n",
       "      <td>0.026142</td>\n",
       "      <td>0.015218</td>\n",
       "      <td>-0.067487</td>\n",
       "    </tr>\n",
       "    <tr>\n",
       "      <th>Population</th>\n",
       "      <td>-0.008552</td>\n",
       "      <td>-0.235459</td>\n",
       "      <td>-0.038099</td>\n",
       "      <td>-0.007120</td>\n",
       "      <td>1.000000</td>\n",
       "      <td>0.022825</td>\n",
       "      <td>-0.069944</td>\n",
       "      <td>0.071085</td>\n",
       "      <td>-0.038479</td>\n",
       "    </tr>\n",
       "    <tr>\n",
       "      <th>AveOccup</th>\n",
       "      <td>-0.000885</td>\n",
       "      <td>-0.002792</td>\n",
       "      <td>0.023858</td>\n",
       "      <td>-0.009257</td>\n",
       "      <td>0.022825</td>\n",
       "      <td>1.000000</td>\n",
       "      <td>-0.032199</td>\n",
       "      <td>0.037118</td>\n",
       "      <td>-0.048475</td>\n",
       "    </tr>\n",
       "    <tr>\n",
       "      <th>Latitude</th>\n",
       "      <td>-0.060463</td>\n",
       "      <td>0.021071</td>\n",
       "      <td>0.095169</td>\n",
       "      <td>0.026142</td>\n",
       "      <td>-0.069944</td>\n",
       "      <td>-0.032199</td>\n",
       "      <td>1.000000</td>\n",
       "      <td>-0.937370</td>\n",
       "      <td>-0.116499</td>\n",
       "    </tr>\n",
       "    <tr>\n",
       "      <th>Longitude</th>\n",
       "      <td>-0.043742</td>\n",
       "      <td>-0.090394</td>\n",
       "      <td>-0.088184</td>\n",
       "      <td>0.015218</td>\n",
       "      <td>0.071085</td>\n",
       "      <td>0.037118</td>\n",
       "      <td>-0.937370</td>\n",
       "      <td>1.000000</td>\n",
       "      <td>-0.056742</td>\n",
       "    </tr>\n",
       "    <tr>\n",
       "      <th>MedHouseVal</th>\n",
       "      <td>0.701925</td>\n",
       "      <td>0.103210</td>\n",
       "      <td>0.366727</td>\n",
       "      <td>-0.067487</td>\n",
       "      <td>-0.038479</td>\n",
       "      <td>-0.048475</td>\n",
       "      <td>-0.116499</td>\n",
       "      <td>-0.056742</td>\n",
       "      <td>1.000000</td>\n",
       "    </tr>\n",
       "  </tbody>\n",
       "</table>\n",
       "</div>"
      ],
      "text/plain": [
       "               MedInc  HouseAge  AveRooms  AveBedrms  Population  AveOccup  \\\n",
       "MedInc       1.000000 -0.080542  0.699994  -0.127169   -0.008552 -0.000885   \n",
       "HouseAge    -0.080542  1.000000 -0.156625  -0.056960   -0.235459 -0.002792   \n",
       "AveRooms     0.699994 -0.156625  1.000000   0.174753   -0.038099  0.023858   \n",
       "AveBedrms   -0.127169 -0.056960  0.174753   1.000000   -0.007120 -0.009257   \n",
       "Population  -0.008552 -0.235459 -0.038099  -0.007120    1.000000  0.022825   \n",
       "AveOccup    -0.000885 -0.002792  0.023858  -0.009257    0.022825  1.000000   \n",
       "Latitude    -0.060463  0.021071  0.095169   0.026142   -0.069944 -0.032199   \n",
       "Longitude   -0.043742 -0.090394 -0.088184   0.015218    0.071085  0.037118   \n",
       "MedHouseVal  0.701925  0.103210  0.366727  -0.067487   -0.038479 -0.048475   \n",
       "\n",
       "             Latitude  Longitude  MedHouseVal  \n",
       "MedInc      -0.060463  -0.043742     0.701925  \n",
       "HouseAge     0.021071  -0.090394     0.103210  \n",
       "AveRooms     0.095169  -0.088184     0.366727  \n",
       "AveBedrms    0.026142   0.015218    -0.067487  \n",
       "Population  -0.069944   0.071085    -0.038479  \n",
       "AveOccup    -0.032199   0.037118    -0.048475  \n",
       "Latitude     1.000000  -0.937370    -0.116499  \n",
       "Longitude   -0.937370   1.000000    -0.056742  \n",
       "MedHouseVal -0.116499  -0.056742     1.000000  "
      ]
     },
     "execution_count": 9,
     "metadata": {},
     "output_type": "execute_result"
    }
   ],
   "source": [
    "from dython.nominal import associations\n",
    "\n",
    "associations(train_df)['corr']"
   ]
  },
  {
   "cell_type": "markdown",
   "id": "38c31b5c",
   "metadata": {
    "papermill": {
     "duration": 0.010354,
     "end_time": "2023-01-06T16:33:16.077547",
     "exception": false,
     "start_time": "2023-01-06T16:33:16.067193",
     "status": "completed"
    },
    "tags": []
   },
   "source": [
    "## Feature Engineering"
   ]
  },
  {
   "cell_type": "markdown",
   "id": "a4b5ccfe",
   "metadata": {
    "papermill": {
     "duration": 0.011025,
     "end_time": "2023-01-06T16:33:16.099282",
     "exception": false,
     "start_time": "2023-01-06T16:33:16.088257",
     "status": "completed"
    },
    "tags": []
   },
   "source": [
    "TODO:\n",
    "- additional training data - DONE\n",
    "- additional feature MedInc / Population - DONE\n",
    "- additional features long/lat-itude - DONE\n",
    "- remove outliers - DONE\n",
    "\n",
    "TODO v2:\n",
    "- categorical features long/lat-itude - DONE\n",
    "- scaling for NN - DONE"
   ]
  },
  {
   "cell_type": "code",
   "execution_count": 10,
   "id": "e3a4892c",
   "metadata": {
    "execution": {
     "iopub.execute_input": "2023-01-06T16:33:16.123264Z",
     "iopub.status.busy": "2023-01-06T16:33:16.122421Z",
     "iopub.status.idle": "2023-01-06T16:33:18.401135Z",
     "shell.execute_reply": "2023-01-06T16:33:18.399953Z"
    },
    "papermill": {
     "duration": 2.293362,
     "end_time": "2023-01-06T16:33:18.403544",
     "exception": false,
     "start_time": "2023-01-06T16:33:16.110182",
     "status": "completed"
    },
    "tags": []
   },
   "outputs": [],
   "source": [
    "original_df = fetch_california_housing(as_frame=True)['frame']\n",
    "train_df['is_generated'] = 1\n",
    "test_df['is_generated'] = 1\n",
    "original_df['is_generated'] = 0\n",
    "train_df = pd.concat([train_df, original_df]).reset_index(drop=True)"
   ]
  },
  {
   "cell_type": "markdown",
   "id": "d4df1115",
   "metadata": {
    "papermill": {
     "duration": 0.010376,
     "end_time": "2023-01-06T16:33:18.425212",
     "exception": false,
     "start_time": "2023-01-06T16:33:18.414836",
     "status": "completed"
    },
    "tags": []
   },
   "source": [
    "### (Long/Lat)itude features engineering\n",
    "\n",
    "based on: https://bmanikan.medium.com/feature-engineering-all-i-learned-about-geo-spatial-features-649871d16796"
   ]
  },
  {
   "cell_type": "code",
   "execution_count": 11,
   "id": "b0f522da",
   "metadata": {
    "execution": {
     "iopub.execute_input": "2023-01-06T16:33:18.448807Z",
     "iopub.status.busy": "2023-01-06T16:33:18.448378Z",
     "iopub.status.idle": "2023-01-06T16:33:18.463863Z",
     "shell.execute_reply": "2023-01-06T16:33:18.462725Z"
    },
    "papermill": {
     "duration": 0.030145,
     "end_time": "2023-01-06T16:33:18.466534",
     "exception": false,
     "start_time": "2023-01-06T16:33:18.436389",
     "status": "completed"
    },
    "tags": []
   },
   "outputs": [],
   "source": [
    "train_df['r'] = np.sqrt(train_df['Latitude']**2 + train_df['Longitude']**2)\n",
    "train_df['theta'] = np.arctan2(train_df['Latitude'], train_df['Longitude'])\n",
    "\n",
    "test_df['r'] = np.sqrt(test_df['Latitude']**2 + test_df['Longitude']**2)\n",
    "test_df['theta'] = np.arctan2(test_df['Latitude'], test_df['Longitude'])"
   ]
  },
  {
   "cell_type": "code",
   "execution_count": 12,
   "id": "a49be997",
   "metadata": {
    "execution": {
     "iopub.execute_input": "2023-01-06T16:33:18.489267Z",
     "iopub.status.busy": "2023-01-06T16:33:18.488844Z",
     "iopub.status.idle": "2023-01-06T16:33:18.507979Z",
     "shell.execute_reply": "2023-01-06T16:33:18.506759Z"
    },
    "papermill": {
     "duration": 0.033562,
     "end_time": "2023-01-06T16:33:18.510721",
     "exception": false,
     "start_time": "2023-01-06T16:33:18.477159",
     "status": "completed"
    },
    "tags": []
   },
   "outputs": [],
   "source": [
    "train_df['rot_15_x'] = (np.cos(np.radians(15)) * train_df['Longitude']) + (np.sin(np.radians(15)) * train_df['Latitude'])\n",
    "train_df['rot_15_y'] = (np.cos(np.radians(15)) * train_df['Latitude']) - (np.sin(np.radians(15)) * train_df['Longitude'])\n",
    "\n",
    "train_df['rot_30_x'] = (np.cos(np.radians(30)) * train_df['Longitude']) + (np.sin(np.radians(30)) * train_df['Latitude'])\n",
    "train_df['rot_30_y'] = (np.cos(np.radians(30)) * train_df['Latitude']) - (np.sin(np.radians(30)) * train_df['Longitude'])\n",
    "\n",
    "train_df['rot_45_x'] = (np.cos(np.radians(45)) * train_df['Longitude']) + (np.sin(np.radians(45)) * train_df['Latitude'])\n",
    "train_df['rot_45_y'] = (np.cos(np.radians(45)) * train_df['Latitude']) - (np.sin(np.radians(45)) * train_df['Longitude'])"
   ]
  },
  {
   "cell_type": "code",
   "execution_count": 13,
   "id": "ac83e036",
   "metadata": {
    "execution": {
     "iopub.execute_input": "2023-01-06T16:33:18.533534Z",
     "iopub.status.busy": "2023-01-06T16:33:18.533081Z",
     "iopub.status.idle": "2023-01-06T16:33:18.550381Z",
     "shell.execute_reply": "2023-01-06T16:33:18.549158Z"
    },
    "papermill": {
     "duration": 0.031895,
     "end_time": "2023-01-06T16:33:18.553142",
     "exception": false,
     "start_time": "2023-01-06T16:33:18.521247",
     "status": "completed"
    },
    "tags": []
   },
   "outputs": [],
   "source": [
    "test_df['rot_15_x'] = (np.cos(np.radians(15)) * test_df['Longitude']) + (np.sin(np.radians(15)) * test_df['Latitude'])\n",
    "test_df['rot_15_y'] = (np.cos(np.radians(15)) * test_df['Latitude']) - (np.sin(np.radians(15)) * test_df['Longitude'])\n",
    "\n",
    "test_df['rot_30_x'] = (np.cos(np.radians(30)) * test_df['Longitude']) + (np.sin(np.radians(30)) * test_df['Latitude'])\n",
    "test_df['rot_30_y'] = (np.cos(np.radians(30)) * test_df['Latitude']) - (np.sin(np.radians(30)) * test_df['Longitude'])\n",
    "\n",
    "test_df['rot_45_x'] = (np.cos(np.radians(45)) * test_df['Longitude']) + (np.sin(np.radians(45)) * test_df['Latitude'])\n",
    "test_df['rot_45_y'] = (np.cos(np.radians(45)) * test_df['Latitude']) - (np.sin(np.radians(45)) * test_df['Longitude'])"
   ]
  },
  {
   "cell_type": "code",
   "execution_count": 14,
   "id": "5affb835",
   "metadata": {
    "execution": {
     "iopub.execute_input": "2023-01-06T16:33:18.575880Z",
     "iopub.status.busy": "2023-01-06T16:33:18.575456Z",
     "iopub.status.idle": "2023-01-06T16:33:18.660198Z",
     "shell.execute_reply": "2023-01-06T16:33:18.658578Z"
    },
    "papermill": {
     "duration": 0.101638,
     "end_time": "2023-01-06T16:33:18.665380",
     "exception": false,
     "start_time": "2023-01-06T16:33:18.563742",
     "status": "completed"
    },
    "tags": []
   },
   "outputs": [],
   "source": [
    "from sklearn.decomposition import PCA\n",
    "\n",
    "def pca(data):\n",
    "    '''\n",
    "    input: dataframe containing Latitude(x) and Longitude(y)\n",
    "    '''\n",
    "    coordinates = data[['Latitude','Latitude']].values\n",
    "    pca_obj = PCA().fit(coordinates)\n",
    "    pca_x = pca_obj.transform(data[['Latitude', 'Longitude']].values)[:,0]\n",
    "    pca_y = pca_obj.transform(data[['Latitude', 'Longitude']].values)[:,1]\n",
    "    return pca_x, pca_y\n",
    "\n",
    "train_df['pca_x'], train_df['pca_y'] = pca(train_df)\n",
    "test_df['pca_x'], test_df['pca_y'] = pca(test_df)"
   ]
  },
  {
   "cell_type": "code",
   "execution_count": 15,
   "id": "d91600d6",
   "metadata": {
    "execution": {
     "iopub.execute_input": "2023-01-06T16:33:18.723628Z",
     "iopub.status.busy": "2023-01-06T16:33:18.722778Z",
     "iopub.status.idle": "2023-01-06T16:33:33.340265Z",
     "shell.execute_reply": "2023-01-06T16:33:33.338830Z"
    },
    "papermill": {
     "duration": 14.650153,
     "end_time": "2023-01-06T16:33:33.343072",
     "exception": false,
     "start_time": "2023-01-06T16:33:18.692919",
     "status": "completed"
    },
    "tags": []
   },
   "outputs": [
    {
     "name": "stdout",
     "output_type": "stream",
     "text": [
      "\u001b[33mWARNING: Running pip as the 'root' user can result in broken permissions and conflicting behaviour with the system package manager. It is recommended to use a virtual environment instead: https://pip.pypa.io/warnings/venv\u001b[0m\u001b[33m\r\n",
      "\u001b[0m"
     ]
    }
   ],
   "source": [
    "!pip install reverse_geocoder --quiet"
   ]
  },
  {
   "cell_type": "code",
   "execution_count": 16,
   "id": "03c80df2",
   "metadata": {
    "execution": {
     "iopub.execute_input": "2023-01-06T16:33:33.368719Z",
     "iopub.status.busy": "2023-01-06T16:33:33.367324Z",
     "iopub.status.idle": "2023-01-06T16:33:33.379570Z",
     "shell.execute_reply": "2023-01-06T16:33:33.378227Z"
    },
    "papermill": {
     "duration": 0.027801,
     "end_time": "2023-01-06T16:33:33.382340",
     "exception": false,
     "start_time": "2023-01-06T16:33:33.354539",
     "status": "completed"
    },
    "tags": []
   },
   "outputs": [],
   "source": [
    "import reverse_geocoder as rg\n",
    "\n",
    "def geocoder(data):\n",
    "    '''\n",
    "    input: dataframe containing Latitude(x) and Longitude(y) coordinates\n",
    "    output: JSON data containing info on available building or street names.\n",
    "    '''\n",
    "    coordinates = list(zip(data['Latitude'].values, data['Longitude'].values))\n",
    "    results = rg.search(coordinates) # default mode = 2\n",
    "    return results"
   ]
  },
  {
   "cell_type": "code",
   "execution_count": 17,
   "id": "380ca471",
   "metadata": {
    "execution": {
     "iopub.execute_input": "2023-01-06T16:33:33.406392Z",
     "iopub.status.busy": "2023-01-06T16:33:33.405977Z",
     "iopub.status.idle": "2023-01-06T16:33:35.657183Z",
     "shell.execute_reply": "2023-01-06T16:33:35.655740Z"
    },
    "papermill": {
     "duration": 2.266144,
     "end_time": "2023-01-06T16:33:35.659728",
     "exception": false,
     "start_time": "2023-01-06T16:33:33.393584",
     "status": "completed"
    },
    "tags": []
   },
   "outputs": [
    {
     "name": "stdout",
     "output_type": "stream",
     "text": [
      "Loading formatted geocoded file...\n"
     ]
    },
    {
     "name": "stderr",
     "output_type": "stream",
     "text": [
      "/opt/conda/lib/python3.7/site-packages/ipykernel_launcher.py:7: SettingWithCopyWarning: \n",
      "A value is trying to be set on a copy of a slice from a DataFrame\n",
      "\n",
      "See the caveats in the documentation: https://pandas.pydata.org/pandas-docs/stable/user_guide/indexing.html#returning-a-view-versus-a-copy\n",
      "  import sys\n",
      "/opt/conda/lib/python3.7/site-packages/ipykernel_launcher.py:13: SettingWithCopyWarning: \n",
      "A value is trying to be set on a copy of a slice from a DataFrame\n",
      "\n",
      "See the caveats in the documentation: https://pandas.pydata.org/pandas-docs/stable/user_guide/indexing.html#returning-a-view-versus-a-copy\n",
      "  del sys.path[0]\n"
     ]
    },
    {
     "data": {
      "text/plain": [
       "Los Angeles County       7344\n",
       "Orange County            2114\n",
       "San Diego County         1869\n",
       "Santa Clara County       1481\n",
       "Alameda County           1316\n",
       "Sacramento County        1250\n",
       "Other                    1131\n",
       "San Bernardino County     959\n",
       "Contra Costa County       861\n",
       "Riverside County          786\n",
       "San Mateo County          725\n",
       "San Francisco County      586\n",
       "Fresno County             551\n",
       "San Joaquin County        538\n",
       "Ventura County            384\n",
       "Kern County               365\n",
       "Stanislaus County         317\n",
       "Sonoma County             250\n",
       "Santa Barbara County      245\n",
       "Tulare County             213\n",
       "Solano County             207\n",
       "Marin County              201\n",
       "Monterey County           164\n",
       "Shasta County             161\n",
       "Butte County              161\n",
       "Merced County             146\n",
       "Santa Cruz County         145\n",
       "Napa County               145\n",
       "Yolo County               144\n",
       "Name: admin2, dtype: int64"
      ]
     },
     "execution_count": 17,
     "metadata": {},
     "output_type": "execute_result"
    }
   ],
   "source": [
    "def get_values(df, column):\n",
    "    return df[column].value_counts(normalize=True)[df[column].value_counts(normalize=True) < 0.005].index.tolist()\n",
    "\n",
    "geocoder_data = geocoder(train_df)\n",
    "\n",
    "train_df['admin2'] = [val['admin2'] for val in geocoder_data]\n",
    "train_df['admin2'][train_df['admin2'].isin(get_values(train_df, 'admin2'))] = 'Other'\n",
    "train_df['admin2'].value_counts()\n",
    "\n",
    "geocoder_data = geocoder(test_df)\n",
    "\n",
    "test_df['admin2'] = [val['admin2'] for val in geocoder_data]\n",
    "test_df['admin2'][test_df['admin2'].isin(get_values(test_df, 'admin2'))] = 'Other'\n",
    "test_df['admin2'].value_counts()"
   ]
  },
  {
   "cell_type": "markdown",
   "id": "01ede303",
   "metadata": {
    "papermill": {
     "duration": 0.011163,
     "end_time": "2023-01-06T16:33:35.683453",
     "exception": false,
     "start_time": "2023-01-06T16:33:35.672290",
     "status": "completed"
    },
    "tags": []
   },
   "source": [
    "## Modeling"
   ]
  },
  {
   "cell_type": "markdown",
   "id": "b2477a4b",
   "metadata": {
    "papermill": {
     "duration": 0.010786,
     "end_time": "2023-01-06T16:33:35.705405",
     "exception": false,
     "start_time": "2023-01-06T16:33:35.694619",
     "status": "completed"
    },
    "tags": []
   },
   "source": [
    "TODO:\n",
    "- CV vs Hold-out - DONE\n",
    "- RF (baseline) - DONE\n",
    "- CatBoost - DONE\n",
    "\n",
    "TODO v2:\n",
    "- Feedforward NN - DONE (didn't work best tho)\n",
    "- Ensemble CatBoost / LightGBM/ NN - PARTLY DONE"
   ]
  },
  {
   "cell_type": "code",
   "execution_count": 18,
   "id": "e04295d2",
   "metadata": {
    "execution": {
     "iopub.execute_input": "2023-01-06T16:33:35.730473Z",
     "iopub.status.busy": "2023-01-06T16:33:35.729524Z",
     "iopub.status.idle": "2023-01-06T16:33:35.753512Z",
     "shell.execute_reply": "2023-01-06T16:33:35.752036Z"
    },
    "papermill": {
     "duration": 0.040073,
     "end_time": "2023-01-06T16:33:35.756719",
     "exception": false,
     "start_time": "2023-01-06T16:33:35.716646",
     "status": "completed"
    },
    "tags": []
   },
   "outputs": [],
   "source": [
    "y = train_df['MedHouseVal']\n",
    "X = train_df.drop(['MedHouseVal'], axis=1)"
   ]
  },
  {
   "cell_type": "markdown",
   "id": "b36c4816",
   "metadata": {
    "papermill": {
     "duration": 0.011046,
     "end_time": "2023-01-06T16:33:35.779591",
     "exception": false,
     "start_time": "2023-01-06T16:33:35.768545",
     "status": "completed"
    },
    "tags": []
   },
   "source": [
    "## Cross-validating CatBoost"
   ]
  },
  {
   "cell_type": "code",
   "execution_count": 19,
   "id": "dc1e94e4",
   "metadata": {
    "execution": {
     "iopub.execute_input": "2023-01-06T16:33:35.803937Z",
     "iopub.status.busy": "2023-01-06T16:33:35.803472Z",
     "iopub.status.idle": "2023-01-06T17:17:36.140190Z",
     "shell.execute_reply": "2023-01-06T17:17:36.138868Z"
    },
    "papermill": {
     "duration": 2640.351596,
     "end_time": "2023-01-06T17:17:36.142783",
     "exception": false,
     "start_time": "2023-01-06T16:33:35.791187",
     "status": "completed"
    },
    "tags": []
   },
   "outputs": [
    {
     "name": "stderr",
     "output_type": "stream",
     "text": [
      "0it [00:00, ?it/s]"
     ]
    },
    {
     "name": "stdout",
     "output_type": "stream",
     "text": [
      "Learning rate set to 0.018151\n",
      "0:\tlearn: 1.1454794\ttest: 1.1300728\tbest: 1.1300728 (0)\ttotal: 87.8ms\tremaining: 21m 56s\n",
      "5000:\tlearn: 0.4503030\ttest: 0.5022164\tbest: 0.5022082 (4991)\ttotal: 1m 42s\tremaining: 3m 24s\n"
     ]
    },
    {
     "name": "stderr",
     "output_type": "stream",
     "text": [
      "1it [03:16, 196.99s/it]"
     ]
    },
    {
     "name": "stdout",
     "output_type": "stream",
     "text": [
      "Stopped by overfitting detector  (1500 iterations wait)\n",
      "\n",
      "bestTest = 0.5015965819\n",
      "bestIteration = 8022\n",
      "\n",
      "Shrink model to first 8023 iterations.\n",
      "Learning rate set to 0.018151\n",
      "0:\tlearn: 1.1433298\ttest: 1.1493002\tbest: 1.1493002 (0)\ttotal: 25.7ms\tremaining: 6m 26s\n",
      "5000:\tlearn: 0.4510124\ttest: 0.4971729\tbest: 0.4971722 (4999)\ttotal: 1m 42s\tremaining: 3m 25s\n",
      "10000:\tlearn: 0.4075085\ttest: 0.4944128\tbest: 0.4943701 (9922)\ttotal: 3m 26s\tremaining: 1m 43s\n",
      "Stopped by overfitting detector  (1500 iterations wait)\n",
      "\n",
      "bestTest = 0.4940042068\n",
      "bestIteration = 12300\n",
      "\n",
      "Shrink model to first 12301 iterations.\n"
     ]
    },
    {
     "name": "stderr",
     "output_type": "stream",
     "text": [
      "2it [08:04, 250.28s/it]"
     ]
    },
    {
     "name": "stdout",
     "output_type": "stream",
     "text": [
      "Learning rate set to 0.018151\n",
      "0:\tlearn: 1.1433166\ttest: 1.1494060\tbest: 1.1494060 (0)\ttotal: 23.9ms\tremaining: 5m 59s\n",
      "5000:\tlearn: 0.4496241\ttest: 0.5178964\tbest: 0.5178752 (4955)\ttotal: 1m 42s\tremaining: 3m 24s\n",
      "10000:\tlearn: 0.4068673\ttest: 0.5143470\tbest: 0.5143117 (9986)\ttotal: 3m 25s\tremaining: 1m 42s\n",
      "14999:\tlearn: 0.3759533\ttest: 0.5140643\tbest: 0.5139658 (14372)\ttotal: 5m 8s\tremaining: 0us\n",
      "\n",
      "bestTest = 0.5139657903\n",
      "bestIteration = 14372\n",
      "\n",
      "Shrink model to first 14373 iterations.\n"
     ]
    },
    {
     "name": "stderr",
     "output_type": "stream",
     "text": [
      "3it [13:15, 278.08s/it]"
     ]
    },
    {
     "name": "stdout",
     "output_type": "stream",
     "text": [
      "Learning rate set to 0.018151\n",
      "0:\tlearn: 1.1461149\ttest: 1.1241020\tbest: 1.1241020 (0)\ttotal: 23.6ms\tremaining: 5m 54s\n",
      "5000:\tlearn: 0.4498859\ttest: 0.5108496\tbest: 0.5108351 (4990)\ttotal: 1m 46s\tremaining: 3m 32s\n"
     ]
    },
    {
     "name": "stderr",
     "output_type": "stream",
     "text": [
      "4it [16:29, 244.77s/it]"
     ]
    },
    {
     "name": "stdout",
     "output_type": "stream",
     "text": [
      "Stopped by overfitting detector  (1500 iterations wait)\n",
      "\n",
      "bestTest = 0.5097940331\n",
      "bestIteration = 7273\n",
      "\n",
      "Shrink model to first 7274 iterations.\n",
      "Learning rate set to 0.018151\n",
      "0:\tlearn: 1.1428031\ttest: 1.1545817\tbest: 1.1545817 (0)\ttotal: 25.9ms\tremaining: 6m 27s\n",
      "5000:\tlearn: 0.4484768\ttest: 0.5249607\tbest: 0.5249386 (4997)\ttotal: 1m 52s\tremaining: 3m 44s\n",
      "10000:\tlearn: 0.4050934\ttest: 0.5230996\tbest: 0.5230291 (8500)\ttotal: 3m 44s\tremaining: 1m 51s\n",
      "Stopped by overfitting detector  (1500 iterations wait)\n",
      "\n",
      "bestTest = 0.5230290575\n",
      "bestIteration = 8500\n",
      "\n",
      "Shrink model to first 8501 iterations.\n"
     ]
    },
    {
     "name": "stderr",
     "output_type": "stream",
     "text": [
      "5it [20:15, 238.13s/it]"
     ]
    },
    {
     "name": "stdout",
     "output_type": "stream",
     "text": [
      "Learning rate set to 0.018151\n",
      "0:\tlearn: 1.1435142\ttest: 1.1481223\tbest: 1.1481223 (0)\ttotal: 26.4ms\tremaining: 6m 35s\n",
      "5000:\tlearn: 0.4523150\ttest: 0.4891638\tbest: 0.4891352 (4980)\ttotal: 1m 51s\tremaining: 3m 43s\n",
      "10000:\tlearn: 0.4098306\ttest: 0.4866739\tbest: 0.4866635 (9959)\ttotal: 3m 44s\tremaining: 1m 52s\n",
      "Stopped by overfitting detector  (1500 iterations wait)\n",
      "\n",
      "bestTest = 0.486472178\n",
      "bestIteration = 11242\n",
      "\n",
      "Shrink model to first 11243 iterations.\n"
     ]
    },
    {
     "name": "stderr",
     "output_type": "stream",
     "text": [
      "6it [25:06, 256.02s/it]"
     ]
    },
    {
     "name": "stdout",
     "output_type": "stream",
     "text": [
      "Learning rate set to 0.018151\n",
      "0:\tlearn: 1.1424130\ttest: 1.1579750\tbest: 1.1579750 (0)\ttotal: 30ms\tremaining: 7m 29s\n",
      "5000:\tlearn: 0.4487321\ttest: 0.5221367\tbest: 0.5221259 (4993)\ttotal: 1m 56s\tremaining: 3m 52s\n",
      "10000:\tlearn: 0.4063884\ttest: 0.5192642\tbest: 0.5192169 (9855)\ttotal: 3m 52s\tremaining: 1m 56s\n",
      "Stopped by overfitting detector  (1500 iterations wait)\n",
      "\n",
      "bestTest = 0.5188733645\n",
      "bestIteration = 11680\n",
      "\n",
      "Shrink model to first 11681 iterations.\n"
     ]
    },
    {
     "name": "stderr",
     "output_type": "stream",
     "text": [
      "7it [30:14, 273.06s/it]"
     ]
    },
    {
     "name": "stdout",
     "output_type": "stream",
     "text": [
      "Learning rate set to 0.018151\n",
      "0:\tlearn: 1.1432583\ttest: 1.1479422\tbest: 1.1479422 (0)\ttotal: 29.2ms\tremaining: 7m 17s\n",
      "5000:\tlearn: 0.4484421\ttest: 0.5295648\tbest: 0.5295505 (4994)\ttotal: 1m 57s\tremaining: 3m 54s\n",
      "10000:\tlearn: 0.4058515\ttest: 0.5278843\tbest: 0.5277897 (9155)\ttotal: 3m 51s\tremaining: 1m 55s\n",
      "Stopped by overfitting detector  (1500 iterations wait)\n",
      "\n",
      "bestTest = 0.52778975\n",
      "bestIteration = 9155\n",
      "\n",
      "Shrink model to first 9156 iterations.\n"
     ]
    },
    {
     "name": "stderr",
     "output_type": "stream",
     "text": [
      "8it [34:22, 265.13s/it]"
     ]
    },
    {
     "name": "stdout",
     "output_type": "stream",
     "text": [
      "Learning rate set to 0.018151\n",
      "0:\tlearn: 1.1426899\ttest: 1.1529641\tbest: 1.1529641 (0)\ttotal: 25.2ms\tremaining: 6m 18s\n",
      "5000:\tlearn: 0.4498851\ttest: 0.5168503\tbest: 0.5168455 (4998)\ttotal: 1m 46s\tremaining: 3m 32s\n",
      "10000:\tlearn: 0.4070948\ttest: 0.5150731\tbest: 0.5149796 (9683)\ttotal: 3m 31s\tremaining: 1m 45s\n",
      "Stopped by overfitting detector  (1500 iterations wait)\n",
      "\n",
      "bestTest = 0.5148897604\n",
      "bestIteration = 10712\n",
      "\n",
      "Shrink model to first 10713 iterations.\n"
     ]
    },
    {
     "name": "stderr",
     "output_type": "stream",
     "text": [
      "9it [38:42, 263.56s/it]"
     ]
    },
    {
     "name": "stdout",
     "output_type": "stream",
     "text": [
      "Learning rate set to 0.018151\n",
      "0:\tlearn: 1.1458814\ttest: 1.1239115\tbest: 1.1239115 (0)\ttotal: 28.1ms\tremaining: 7m 1s\n",
      "5000:\tlearn: 0.4505288\ttest: 0.5052219\tbest: 0.5052128 (4995)\ttotal: 1m 44s\tremaining: 3m 29s\n",
      "10000:\tlearn: 0.4071071\ttest: 0.5025406\tbest: 0.5025154 (9968)\ttotal: 3m 29s\tremaining: 1m 44s\n",
      "14999:\tlearn: 0.3760493\ttest: 0.5019986\tbest: 0.5019217 (14114)\ttotal: 5m 14s\tremaining: 0us\n",
      "\n",
      "bestTest = 0.5019217213\n",
      "bestIteration = 14114\n",
      "\n",
      "Shrink model to first 14115 iterations.\n"
     ]
    },
    {
     "name": "stderr",
     "output_type": "stream",
     "text": [
      "10it [44:00, 264.00s/it]"
     ]
    },
    {
     "name": "stdout",
     "output_type": "stream",
     "text": [
      "Total RMSE: 0.5092336431352876\n"
     ]
    },
    {
     "name": "stderr",
     "output_type": "stream",
     "text": [
      "\n"
     ]
    }
   ],
   "source": [
    "from catboost import CatBoostRegressor\n",
    "from sklearn.model_selection import KFold\n",
    "from tqdm import tqdm\n",
    "\n",
    "rmses = []\n",
    "models = []\n",
    "kf = KFold(n_splits=10, random_state=42, shuffle=True)\n",
    "\n",
    "for train_index, val_index in tqdm(kf.split(X)):\n",
    "    X_train, X_val = X.iloc[train_index], X.iloc[val_index]\n",
    "    y_train, y_val = y.iloc[train_index], y.iloc[val_index]\n",
    "\n",
    "    model = CatBoostRegressor(iterations=15_000, loss_function='RMSE')\n",
    "    model.fit(X_train, y_train, eval_set=(X_val, y_val), cat_features=['admin2'],\n",
    "              early_stopping_rounds=1500, use_best_model=True, verbose=5000)\n",
    "    pred = model.predict(X_val)\n",
    "    \n",
    "    models.append(model)\n",
    "    rmses.append(mean_squared_error(y_val, pred, squared=False))\n",
    "    \n",
    "print(f'Total RMSE: {np.mean(rmses)}')"
   ]
  },
  {
   "cell_type": "markdown",
   "id": "a5d1bfa3",
   "metadata": {
    "papermill": {
     "duration": 0.013511,
     "end_time": "2023-01-06T17:17:36.170292",
     "exception": false,
     "start_time": "2023-01-06T17:17:36.156781",
     "status": "completed"
    },
    "tags": []
   },
   "source": [
    "## CatBoost feature importances"
   ]
  },
  {
   "cell_type": "code",
   "execution_count": 20,
   "id": "816dbcc7",
   "metadata": {
    "execution": {
     "iopub.execute_input": "2023-01-06T17:17:36.200148Z",
     "iopub.status.busy": "2023-01-06T17:17:36.199656Z",
     "iopub.status.idle": "2023-01-06T17:17:36.759332Z",
     "shell.execute_reply": "2023-01-06T17:17:36.757592Z"
    },
    "papermill": {
     "duration": 0.578923,
     "end_time": "2023-01-06T17:17:36.763143",
     "exception": false,
     "start_time": "2023-01-06T17:17:36.184220",
     "status": "completed"
    },
    "tags": []
   },
   "outputs": [
    {
     "name": "stdout",
     "output_type": "stream",
     "text": [
      "MedInc: 29.118715311536654\n",
      "AveOccup: 11.35391676921934\n",
      "rot_45_x: 9.737470117987982\n",
      "pca_x: 5.927846184141382\n",
      "admin2: 5.841419327178735\n",
      "HouseAge: 3.8591708028071516\n",
      "AveRooms: 3.8036155762492094\n",
      "Latitude: 3.65417477039912\n",
      "Longitude: 2.9118222066280155\n",
      "theta: 2.87886627562954\n",
      "rot_15_y: 2.7930541598628893\n",
      "rot_30_x: 2.5587695428683768\n",
      "r: 2.371560529546889\n",
      "rot_30_y: 2.2237361480875246\n",
      "rot_15_x: 2.215436458324011\n",
      "Population: 2.195460348001407\n",
      "rot_45_y: 2.0368389034397323\n",
      "AveBedrms: 1.9223850021634963\n",
      "pca_y: 1.4624291539545757\n",
      "is_generated: 1.1333124119739777\n"
     ]
    }
   ],
   "source": [
    "feature_importances = np.zeros(20)\n",
    "for model in models[:10]:\n",
    "    feature_importances += model.get_feature_importance()\n",
    "    \n",
    "feature_names = X_train.columns\n",
    "for score, name in sorted(zip(feature_importances / 10, feature_names), reverse=True):\n",
    "    print('{}: {}'.format(name, score))"
   ]
  },
  {
   "cell_type": "markdown",
   "id": "92d0057c",
   "metadata": {
    "papermill": {
     "duration": 0.013722,
     "end_time": "2023-01-06T17:17:36.791899",
     "exception": false,
     "start_time": "2023-01-06T17:17:36.778177",
     "status": "completed"
    },
    "tags": []
   },
   "source": [
    "## Cross-validating LightGBM"
   ]
  },
  {
   "cell_type": "code",
   "execution_count": 21,
   "id": "7abc2ec5",
   "metadata": {
    "execution": {
     "iopub.execute_input": "2023-01-06T17:17:36.821733Z",
     "iopub.status.busy": "2023-01-06T17:17:36.821311Z",
     "iopub.status.idle": "2023-01-06T17:24:30.285621Z",
     "shell.execute_reply": "2023-01-06T17:24:30.284636Z"
    },
    "papermill": {
     "duration": 413.482218,
     "end_time": "2023-01-06T17:24:30.288308",
     "exception": false,
     "start_time": "2023-01-06T17:17:36.806090",
     "status": "completed"
    },
    "tags": []
   },
   "outputs": [
    {
     "data": {
      "text/html": [
       "<style type='text/css'>\n",
       ".datatable table.frame { margin-bottom: 0; }\n",
       ".datatable table.frame thead { border-bottom: none; }\n",
       ".datatable table.frame tr.coltypes td {  color: #FFFFFF;  line-height: 6px;  padding: 0 0.5em;}\n",
       ".datatable .bool    { background: #DDDD99; }\n",
       ".datatable .object  { background: #565656; }\n",
       ".datatable .int     { background: #5D9E5D; }\n",
       ".datatable .float   { background: #4040CC; }\n",
       ".datatable .str     { background: #CC4040; }\n",
       ".datatable .time    { background: #40CC40; }\n",
       ".datatable .row_index {  background: var(--jp-border-color3);  border-right: 1px solid var(--jp-border-color0);  color: var(--jp-ui-font-color3);  font-size: 9px;}\n",
       ".datatable .frame tbody td { text-align: left; }\n",
       ".datatable .frame tr.coltypes .row_index {  background: var(--jp-border-color0);}\n",
       ".datatable th:nth-child(2) { padding-left: 12px; }\n",
       ".datatable .hellipsis {  color: var(--jp-cell-editor-border-color);}\n",
       ".datatable .vellipsis {  background: var(--jp-layout-color0);  color: var(--jp-cell-editor-border-color);}\n",
       ".datatable .na {  color: var(--jp-cell-editor-border-color);  font-size: 80%;}\n",
       ".datatable .sp {  opacity: 0.25;}\n",
       ".datatable .footer { font-size: 9px; }\n",
       ".datatable .frame_dimensions {  background: var(--jp-border-color3);  border-top: 1px solid var(--jp-border-color0);  color: var(--jp-ui-font-color3);  display: inline-block;  opacity: 0.6;  padding: 1px 10px 1px 5px;}\n",
       "</style>\n"
      ],
      "text/plain": [
       "<IPython.core.display.HTML object>"
      ]
     },
     "metadata": {},
     "output_type": "display_data"
    },
    {
     "name": "stderr",
     "output_type": "stream",
     "text": [
      "0it [00:00, ?it/s]/opt/conda/lib/python3.7/site-packages/lightgbm/basic.py:2065: UserWarning: Using categorical_feature in Dataset.\n",
      "  _log_warning('Using categorical_feature in Dataset.')\n",
      "/opt/conda/lib/python3.7/site-packages/lightgbm/basic.py:2068: UserWarning: categorical_feature in Dataset is overridden.\n",
      "New categorical_feature is ['admin2']\n",
      "  _log_warning('categorical_feature in Dataset is overridden.\\n'\n",
      "/opt/conda/lib/python3.7/site-packages/lightgbm/basic.py:1780: UserWarning: Overriding the parameters from Reference Dataset.\n",
      "  _log_warning('Overriding the parameters from Reference Dataset.')\n",
      "/opt/conda/lib/python3.7/site-packages/lightgbm/basic.py:1513: UserWarning: categorical_column in param dict is overridden.\n",
      "  _log_warning(f'{cat_alias} in param dict is overridden.')\n"
     ]
    },
    {
     "name": "stdout",
     "output_type": "stream",
     "text": [
      "[LightGBM] [Warning] feature_fraction is set=0.79, colsample_bytree=1.0 will be ignored. Current value: feature_fraction=0.79\n",
      "[LightGBM] [Warning] lambda_l1 is set=1.945, reg_alpha=0.0 will be ignored. Current value: lambda_l1=1.945\n",
      "[LightGBM] [Warning] bagging_fraction is set=0.93, subsample=1.0 will be ignored. Current value: bagging_fraction=0.93\n",
      "[LightGBM] [Warning] min_data_in_leaf is set=103, min_child_samples=20 will be ignored. Current value: min_data_in_leaf=103\n",
      "[LightGBM] [Warning] bagging_freq is set=4, subsample_freq=0 will be ignored. Current value: bagging_freq=4\n",
      "Training until validation scores don't improve for 1500 rounds\n",
      "Early stopping, best iteration is:\n",
      "[1851]\tvalid_0's rmse: 0.498816\n"
     ]
    },
    {
     "name": "stderr",
     "output_type": "stream",
     "text": [
      "1it [00:37, 37.63s/it]/opt/conda/lib/python3.7/site-packages/lightgbm/basic.py:2065: UserWarning: Using categorical_feature in Dataset.\n",
      "  _log_warning('Using categorical_feature in Dataset.')\n",
      "/opt/conda/lib/python3.7/site-packages/lightgbm/basic.py:2068: UserWarning: categorical_feature in Dataset is overridden.\n",
      "New categorical_feature is ['admin2']\n",
      "  _log_warning('categorical_feature in Dataset is overridden.\\n'\n",
      "/opt/conda/lib/python3.7/site-packages/lightgbm/basic.py:1780: UserWarning: Overriding the parameters from Reference Dataset.\n",
      "  _log_warning('Overriding the parameters from Reference Dataset.')\n",
      "/opt/conda/lib/python3.7/site-packages/lightgbm/basic.py:1513: UserWarning: categorical_column in param dict is overridden.\n",
      "  _log_warning(f'{cat_alias} in param dict is overridden.')\n"
     ]
    },
    {
     "name": "stdout",
     "output_type": "stream",
     "text": [
      "[LightGBM] [Warning] feature_fraction is set=0.79, colsample_bytree=1.0 will be ignored. Current value: feature_fraction=0.79\n",
      "[LightGBM] [Warning] lambda_l1 is set=1.945, reg_alpha=0.0 will be ignored. Current value: lambda_l1=1.945\n",
      "[LightGBM] [Warning] bagging_fraction is set=0.93, subsample=1.0 will be ignored. Current value: bagging_fraction=0.93\n",
      "[LightGBM] [Warning] min_data_in_leaf is set=103, min_child_samples=20 will be ignored. Current value: min_data_in_leaf=103\n",
      "[LightGBM] [Warning] bagging_freq is set=4, subsample_freq=0 will be ignored. Current value: bagging_freq=4\n",
      "Training until validation scores don't improve for 1500 rounds\n",
      "Early stopping, best iteration is:\n",
      "[2458]\tvalid_0's rmse: 0.49511\n"
     ]
    },
    {
     "name": "stderr",
     "output_type": "stream",
     "text": [
      "2it [01:20, 40.65s/it]/opt/conda/lib/python3.7/site-packages/lightgbm/basic.py:2065: UserWarning: Using categorical_feature in Dataset.\n",
      "  _log_warning('Using categorical_feature in Dataset.')\n",
      "/opt/conda/lib/python3.7/site-packages/lightgbm/basic.py:2068: UserWarning: categorical_feature in Dataset is overridden.\n",
      "New categorical_feature is ['admin2']\n",
      "  _log_warning('categorical_feature in Dataset is overridden.\\n'\n",
      "/opt/conda/lib/python3.7/site-packages/lightgbm/basic.py:1780: UserWarning: Overriding the parameters from Reference Dataset.\n",
      "  _log_warning('Overriding the parameters from Reference Dataset.')\n",
      "/opt/conda/lib/python3.7/site-packages/lightgbm/basic.py:1513: UserWarning: categorical_column in param dict is overridden.\n",
      "  _log_warning(f'{cat_alias} in param dict is overridden.')\n"
     ]
    },
    {
     "name": "stdout",
     "output_type": "stream",
     "text": [
      "[LightGBM] [Warning] feature_fraction is set=0.79, colsample_bytree=1.0 will be ignored. Current value: feature_fraction=0.79\n",
      "[LightGBM] [Warning] lambda_l1 is set=1.945, reg_alpha=0.0 will be ignored. Current value: lambda_l1=1.945\n",
      "[LightGBM] [Warning] bagging_fraction is set=0.93, subsample=1.0 will be ignored. Current value: bagging_fraction=0.93\n",
      "[LightGBM] [Warning] min_data_in_leaf is set=103, min_child_samples=20 will be ignored. Current value: min_data_in_leaf=103\n",
      "[LightGBM] [Warning] bagging_freq is set=4, subsample_freq=0 will be ignored. Current value: bagging_freq=4\n",
      "Training until validation scores don't improve for 1500 rounds\n",
      "Early stopping, best iteration is:\n",
      "[2518]\tvalid_0's rmse: 0.516062\n"
     ]
    },
    {
     "name": "stderr",
     "output_type": "stream",
     "text": [
      "3it [02:04, 42.05s/it]/opt/conda/lib/python3.7/site-packages/lightgbm/basic.py:2065: UserWarning: Using categorical_feature in Dataset.\n",
      "  _log_warning('Using categorical_feature in Dataset.')\n",
      "/opt/conda/lib/python3.7/site-packages/lightgbm/basic.py:2068: UserWarning: categorical_feature in Dataset is overridden.\n",
      "New categorical_feature is ['admin2']\n",
      "  _log_warning('categorical_feature in Dataset is overridden.\\n'\n",
      "/opt/conda/lib/python3.7/site-packages/lightgbm/basic.py:1780: UserWarning: Overriding the parameters from Reference Dataset.\n",
      "  _log_warning('Overriding the parameters from Reference Dataset.')\n",
      "/opt/conda/lib/python3.7/site-packages/lightgbm/basic.py:1513: UserWarning: categorical_column in param dict is overridden.\n",
      "  _log_warning(f'{cat_alias} in param dict is overridden.')\n"
     ]
    },
    {
     "name": "stdout",
     "output_type": "stream",
     "text": [
      "[LightGBM] [Warning] feature_fraction is set=0.79, colsample_bytree=1.0 will be ignored. Current value: feature_fraction=0.79\n",
      "[LightGBM] [Warning] lambda_l1 is set=1.945, reg_alpha=0.0 will be ignored. Current value: lambda_l1=1.945\n",
      "[LightGBM] [Warning] bagging_fraction is set=0.93, subsample=1.0 will be ignored. Current value: bagging_fraction=0.93\n",
      "[LightGBM] [Warning] min_data_in_leaf is set=103, min_child_samples=20 will be ignored. Current value: min_data_in_leaf=103\n",
      "[LightGBM] [Warning] bagging_freq is set=4, subsample_freq=0 will be ignored. Current value: bagging_freq=4\n",
      "Training until validation scores don't improve for 1500 rounds\n",
      "Early stopping, best iteration is:\n",
      "[2306]\tvalid_0's rmse: 0.511585\n"
     ]
    },
    {
     "name": "stderr",
     "output_type": "stream",
     "text": [
      "4it [02:46, 42.29s/it]/opt/conda/lib/python3.7/site-packages/lightgbm/basic.py:2065: UserWarning: Using categorical_feature in Dataset.\n",
      "  _log_warning('Using categorical_feature in Dataset.')\n",
      "/opt/conda/lib/python3.7/site-packages/lightgbm/basic.py:2068: UserWarning: categorical_feature in Dataset is overridden.\n",
      "New categorical_feature is ['admin2']\n",
      "  _log_warning('categorical_feature in Dataset is overridden.\\n'\n",
      "/opt/conda/lib/python3.7/site-packages/lightgbm/basic.py:1780: UserWarning: Overriding the parameters from Reference Dataset.\n",
      "  _log_warning('Overriding the parameters from Reference Dataset.')\n",
      "/opt/conda/lib/python3.7/site-packages/lightgbm/basic.py:1513: UserWarning: categorical_column in param dict is overridden.\n",
      "  _log_warning(f'{cat_alias} in param dict is overridden.')\n"
     ]
    },
    {
     "name": "stdout",
     "output_type": "stream",
     "text": [
      "[LightGBM] [Warning] feature_fraction is set=0.79, colsample_bytree=1.0 will be ignored. Current value: feature_fraction=0.79\n",
      "[LightGBM] [Warning] lambda_l1 is set=1.945, reg_alpha=0.0 will be ignored. Current value: lambda_l1=1.945\n",
      "[LightGBM] [Warning] bagging_fraction is set=0.93, subsample=1.0 will be ignored. Current value: bagging_fraction=0.93\n",
      "[LightGBM] [Warning] min_data_in_leaf is set=103, min_child_samples=20 will be ignored. Current value: min_data_in_leaf=103\n",
      "[LightGBM] [Warning] bagging_freq is set=4, subsample_freq=0 will be ignored. Current value: bagging_freq=4\n",
      "Training until validation scores don't improve for 1500 rounds\n",
      "Early stopping, best iteration is:\n",
      "[1809]\tvalid_0's rmse: 0.523012\n"
     ]
    },
    {
     "name": "stderr",
     "output_type": "stream",
     "text": [
      "5it [03:22, 40.10s/it]/opt/conda/lib/python3.7/site-packages/lightgbm/basic.py:2065: UserWarning: Using categorical_feature in Dataset.\n",
      "  _log_warning('Using categorical_feature in Dataset.')\n",
      "/opt/conda/lib/python3.7/site-packages/lightgbm/basic.py:2068: UserWarning: categorical_feature in Dataset is overridden.\n",
      "New categorical_feature is ['admin2']\n",
      "  _log_warning('categorical_feature in Dataset is overridden.\\n'\n",
      "/opt/conda/lib/python3.7/site-packages/lightgbm/basic.py:1780: UserWarning: Overriding the parameters from Reference Dataset.\n",
      "  _log_warning('Overriding the parameters from Reference Dataset.')\n",
      "/opt/conda/lib/python3.7/site-packages/lightgbm/basic.py:1513: UserWarning: categorical_column in param dict is overridden.\n",
      "  _log_warning(f'{cat_alias} in param dict is overridden.')\n"
     ]
    },
    {
     "name": "stdout",
     "output_type": "stream",
     "text": [
      "[LightGBM] [Warning] feature_fraction is set=0.79, colsample_bytree=1.0 will be ignored. Current value: feature_fraction=0.79\n",
      "[LightGBM] [Warning] lambda_l1 is set=1.945, reg_alpha=0.0 will be ignored. Current value: lambda_l1=1.945\n",
      "[LightGBM] [Warning] bagging_fraction is set=0.93, subsample=1.0 will be ignored. Current value: bagging_fraction=0.93\n",
      "[LightGBM] [Warning] min_data_in_leaf is set=103, min_child_samples=20 will be ignored. Current value: min_data_in_leaf=103\n",
      "[LightGBM] [Warning] bagging_freq is set=4, subsample_freq=0 will be ignored. Current value: bagging_freq=4\n",
      "Training until validation scores don't improve for 1500 rounds\n",
      "Early stopping, best iteration is:\n",
      "[2240]\tvalid_0's rmse: 0.483863\n"
     ]
    },
    {
     "name": "stderr",
     "output_type": "stream",
     "text": [
      "6it [04:04, 40.55s/it]/opt/conda/lib/python3.7/site-packages/lightgbm/basic.py:2065: UserWarning: Using categorical_feature in Dataset.\n",
      "  _log_warning('Using categorical_feature in Dataset.')\n",
      "/opt/conda/lib/python3.7/site-packages/lightgbm/basic.py:2068: UserWarning: categorical_feature in Dataset is overridden.\n",
      "New categorical_feature is ['admin2']\n",
      "  _log_warning('categorical_feature in Dataset is overridden.\\n'\n",
      "/opt/conda/lib/python3.7/site-packages/lightgbm/basic.py:1780: UserWarning: Overriding the parameters from Reference Dataset.\n",
      "  _log_warning('Overriding the parameters from Reference Dataset.')\n",
      "/opt/conda/lib/python3.7/site-packages/lightgbm/basic.py:1513: UserWarning: categorical_column in param dict is overridden.\n",
      "  _log_warning(f'{cat_alias} in param dict is overridden.')\n"
     ]
    },
    {
     "name": "stdout",
     "output_type": "stream",
     "text": [
      "[LightGBM] [Warning] feature_fraction is set=0.79, colsample_bytree=1.0 will be ignored. Current value: feature_fraction=0.79\n",
      "[LightGBM] [Warning] lambda_l1 is set=1.945, reg_alpha=0.0 will be ignored. Current value: lambda_l1=1.945\n",
      "[LightGBM] [Warning] bagging_fraction is set=0.93, subsample=1.0 will be ignored. Current value: bagging_fraction=0.93\n",
      "[LightGBM] [Warning] min_data_in_leaf is set=103, min_child_samples=20 will be ignored. Current value: min_data_in_leaf=103\n",
      "[LightGBM] [Warning] bagging_freq is set=4, subsample_freq=0 will be ignored. Current value: bagging_freq=4\n",
      "Training until validation scores don't improve for 1500 rounds\n",
      "Early stopping, best iteration is:\n",
      "[2129]\tvalid_0's rmse: 0.519834\n"
     ]
    },
    {
     "name": "stderr",
     "output_type": "stream",
     "text": [
      "7it [04:45, 40.65s/it]/opt/conda/lib/python3.7/site-packages/lightgbm/basic.py:2065: UserWarning: Using categorical_feature in Dataset.\n",
      "  _log_warning('Using categorical_feature in Dataset.')\n",
      "/opt/conda/lib/python3.7/site-packages/lightgbm/basic.py:2068: UserWarning: categorical_feature in Dataset is overridden.\n",
      "New categorical_feature is ['admin2']\n",
      "  _log_warning('categorical_feature in Dataset is overridden.\\n'\n",
      "/opt/conda/lib/python3.7/site-packages/lightgbm/basic.py:1780: UserWarning: Overriding the parameters from Reference Dataset.\n",
      "  _log_warning('Overriding the parameters from Reference Dataset.')\n",
      "/opt/conda/lib/python3.7/site-packages/lightgbm/basic.py:1513: UserWarning: categorical_column in param dict is overridden.\n",
      "  _log_warning(f'{cat_alias} in param dict is overridden.')\n"
     ]
    },
    {
     "name": "stdout",
     "output_type": "stream",
     "text": [
      "[LightGBM] [Warning] feature_fraction is set=0.79, colsample_bytree=1.0 will be ignored. Current value: feature_fraction=0.79\n",
      "[LightGBM] [Warning] lambda_l1 is set=1.945, reg_alpha=0.0 will be ignored. Current value: lambda_l1=1.945\n",
      "[LightGBM] [Warning] bagging_fraction is set=0.93, subsample=1.0 will be ignored. Current value: bagging_fraction=0.93\n",
      "[LightGBM] [Warning] min_data_in_leaf is set=103, min_child_samples=20 will be ignored. Current value: min_data_in_leaf=103\n",
      "[LightGBM] [Warning] bagging_freq is set=4, subsample_freq=0 will be ignored. Current value: bagging_freq=4\n",
      "Training until validation scores don't improve for 1500 rounds\n",
      "Early stopping, best iteration is:\n",
      "[2385]\tvalid_0's rmse: 0.527144\n"
     ]
    },
    {
     "name": "stderr",
     "output_type": "stream",
     "text": [
      "8it [05:27, 41.19s/it]/opt/conda/lib/python3.7/site-packages/lightgbm/basic.py:2065: UserWarning: Using categorical_feature in Dataset.\n",
      "  _log_warning('Using categorical_feature in Dataset.')\n",
      "/opt/conda/lib/python3.7/site-packages/lightgbm/basic.py:2068: UserWarning: categorical_feature in Dataset is overridden.\n",
      "New categorical_feature is ['admin2']\n",
      "  _log_warning('categorical_feature in Dataset is overridden.\\n'\n",
      "/opt/conda/lib/python3.7/site-packages/lightgbm/basic.py:1780: UserWarning: Overriding the parameters from Reference Dataset.\n",
      "  _log_warning('Overriding the parameters from Reference Dataset.')\n",
      "/opt/conda/lib/python3.7/site-packages/lightgbm/basic.py:1513: UserWarning: categorical_column in param dict is overridden.\n",
      "  _log_warning(f'{cat_alias} in param dict is overridden.')\n"
     ]
    },
    {
     "name": "stdout",
     "output_type": "stream",
     "text": [
      "[LightGBM] [Warning] feature_fraction is set=0.79, colsample_bytree=1.0 will be ignored. Current value: feature_fraction=0.79\n",
      "[LightGBM] [Warning] lambda_l1 is set=1.945, reg_alpha=0.0 will be ignored. Current value: lambda_l1=1.945\n",
      "[LightGBM] [Warning] bagging_fraction is set=0.93, subsample=1.0 will be ignored. Current value: bagging_fraction=0.93\n",
      "[LightGBM] [Warning] min_data_in_leaf is set=103, min_child_samples=20 will be ignored. Current value: min_data_in_leaf=103\n",
      "[LightGBM] [Warning] bagging_freq is set=4, subsample_freq=0 will be ignored. Current value: bagging_freq=4\n",
      "Training until validation scores don't improve for 1500 rounds\n",
      "Early stopping, best iteration is:\n",
      "[2168]\tvalid_0's rmse: 0.514362\n"
     ]
    },
    {
     "name": "stderr",
     "output_type": "stream",
     "text": [
      "9it [06:08, 41.04s/it]/opt/conda/lib/python3.7/site-packages/lightgbm/basic.py:2065: UserWarning: Using categorical_feature in Dataset.\n",
      "  _log_warning('Using categorical_feature in Dataset.')\n",
      "/opt/conda/lib/python3.7/site-packages/lightgbm/basic.py:2068: UserWarning: categorical_feature in Dataset is overridden.\n",
      "New categorical_feature is ['admin2']\n",
      "  _log_warning('categorical_feature in Dataset is overridden.\\n'\n",
      "/opt/conda/lib/python3.7/site-packages/lightgbm/basic.py:1780: UserWarning: Overriding the parameters from Reference Dataset.\n",
      "  _log_warning('Overriding the parameters from Reference Dataset.')\n",
      "/opt/conda/lib/python3.7/site-packages/lightgbm/basic.py:1513: UserWarning: categorical_column in param dict is overridden.\n",
      "  _log_warning(f'{cat_alias} in param dict is overridden.')\n"
     ]
    },
    {
     "name": "stdout",
     "output_type": "stream",
     "text": [
      "[LightGBM] [Warning] feature_fraction is set=0.79, colsample_bytree=1.0 will be ignored. Current value: feature_fraction=0.79\n",
      "[LightGBM] [Warning] lambda_l1 is set=1.945, reg_alpha=0.0 will be ignored. Current value: lambda_l1=1.945\n",
      "[LightGBM] [Warning] bagging_fraction is set=0.93, subsample=1.0 will be ignored. Current value: bagging_fraction=0.93\n",
      "[LightGBM] [Warning] min_data_in_leaf is set=103, min_child_samples=20 will be ignored. Current value: min_data_in_leaf=103\n",
      "[LightGBM] [Warning] bagging_freq is set=4, subsample_freq=0 will be ignored. Current value: bagging_freq=4\n",
      "Training until validation scores don't improve for 1500 rounds\n",
      "Early stopping, best iteration is:\n",
      "[2447]\tvalid_0's rmse: 0.504004\n"
     ]
    },
    {
     "name": "stderr",
     "output_type": "stream",
     "text": [
      "10it [06:52, 41.26s/it]"
     ]
    },
    {
     "name": "stdout",
     "output_type": "stream",
     "text": [
      "Total RMSE: 0.5093793766932879\n"
     ]
    },
    {
     "name": "stderr",
     "output_type": "stream",
     "text": [
      "\n"
     ]
    }
   ],
   "source": [
    "from lightgbm import LGBMRegressor\n",
    "import lightgbm as lgbm\n",
    "\n",
    "params= {\n",
    " 'lambda_l1': 1.945,\n",
    " 'num_leaves': 87,\n",
    " 'feature_fraction': 0.79,\n",
    " 'bagging_fraction': 0.93,\n",
    " 'bagging_freq': 4,\n",
    " 'min_data_in_leaf': 103,\n",
    " 'max_depth': 17,\n",
    "}\n",
    "\n",
    "rmses = []\n",
    "kf = KFold(n_splits=10, random_state=42, shuffle=True)\n",
    "X['admin2'] = X['admin2'].astype('category')\n",
    "\n",
    "for train_index, val_index in tqdm(kf.split(X)):\n",
    "    X_train, X_val = X.iloc[train_index], X.iloc[val_index]\n",
    "    y_train, y_val = y.iloc[train_index], y.iloc[val_index]\n",
    "    \n",
    "    model = LGBMRegressor(learning_rate=0.01, n_estimators=15_000, metric='rmse', **params)\n",
    "    model.fit(X_train, y_train, eval_set=[(X_val, y_val)], categorical_feature=['admin2'],\n",
    "              callbacks=[lgbm.early_stopping(1500, verbose=True)])\n",
    "    pred = model.predict(X_val)\n",
    "    \n",
    "    models.append(model)\n",
    "    rmses.append(mean_squared_error(y_val, pred, squared=False))\n",
    "    \n",
    "print(f'Total RMSE: {np.mean(rmses)}')"
   ]
  },
  {
   "cell_type": "markdown",
   "id": "5d82cbb9",
   "metadata": {
    "papermill": {
     "duration": 0.016977,
     "end_time": "2023-01-06T17:24:30.322846",
     "exception": false,
     "start_time": "2023-01-06T17:24:30.305869",
     "status": "completed"
    },
    "tags": []
   },
   "source": [
    "## LightGBM feature importances"
   ]
  },
  {
   "cell_type": "code",
   "execution_count": 22,
   "id": "03b84dae",
   "metadata": {
    "execution": {
     "iopub.execute_input": "2023-01-06T17:24:30.359339Z",
     "iopub.status.busy": "2023-01-06T17:24:30.358724Z",
     "iopub.status.idle": "2023-01-06T17:24:30.384075Z",
     "shell.execute_reply": "2023-01-06T17:24:30.383264Z"
    },
    "papermill": {
     "duration": 0.047124,
     "end_time": "2023-01-06T17:24:30.387092",
     "exception": false,
     "start_time": "2023-01-06T17:24:30.339968",
     "status": "completed"
    },
    "tags": []
   },
   "outputs": [
    {
     "name": "stdout",
     "output_type": "stream",
     "text": [
      "AveOccup: 19650.3\n",
      "MedInc: 18155.1\n",
      "Population: 17067.4\n",
      "AveRooms: 16519.5\n",
      "AveBedrms: 15013.6\n",
      "rot_45_x: 12715.0\n",
      "HouseAge: 11719.9\n",
      "admin2: 10885.4\n",
      "theta: 9401.0\n",
      "rot_30_x: 8887.6\n",
      "Latitude: 8350.0\n",
      "Longitude: 7294.5\n",
      "rot_15_x: 7065.4\n",
      "rot_15_y: 6726.7\n",
      "r: 5833.1\n",
      "rot_45_y: 5535.5\n",
      "rot_30_y: 5082.0\n",
      "pca_x: 2460.0\n",
      "is_generated: 2128.4\n",
      "pca_y: 1066.4\n"
     ]
    }
   ],
   "source": [
    "feature_importances = np.zeros(20)\n",
    "for model in models[10:]:\n",
    "    feature_importances += model.feature_importances_\n",
    "    \n",
    "feature_names = X_train.columns\n",
    "for score, name in sorted(zip(feature_importances / 10, feature_names), reverse=True):\n",
    "    print('{}: {}'.format(name, score))"
   ]
  },
  {
   "cell_type": "markdown",
   "id": "646c3c43",
   "metadata": {
    "papermill": {
     "duration": 0.017139,
     "end_time": "2023-01-06T17:24:30.422603",
     "exception": false,
     "start_time": "2023-01-06T17:24:30.405464",
     "status": "completed"
    },
    "tags": []
   },
   "source": [
    "## Feedforward NN"
   ]
  },
  {
   "cell_type": "code",
   "execution_count": 23,
   "id": "fb00d057",
   "metadata": {
    "execution": {
     "iopub.execute_input": "2023-01-06T17:24:30.459279Z",
     "iopub.status.busy": "2023-01-06T17:24:30.458655Z",
     "iopub.status.idle": "2023-01-06T17:24:36.671227Z",
     "shell.execute_reply": "2023-01-06T17:24:36.670050Z"
    },
    "papermill": {
     "duration": 6.233898,
     "end_time": "2023-01-06T17:24:36.673891",
     "exception": false,
     "start_time": "2023-01-06T17:24:30.439993",
     "status": "completed"
    },
    "tags": []
   },
   "outputs": [],
   "source": [
    "from keras.models import Sequential\n",
    "from keras.layers import Dense, BatchNormalization\n",
    "from keras import backend as K\n",
    "from sklearn.preprocessing import MinMaxScaler\n",
    "\n",
    "\n",
    "def root_mean_squared_error(y_true, y_pred):\n",
    "        return K.sqrt(K.mean(K.square(y_pred - y_true))) \n",
    "    \n",
    "\n",
    "def create_nn_model():    \n",
    "    model = Sequential()\n",
    "\n",
    "    model.add(Dense(512, activation='relu', input_shape=(18,)))\n",
    "    model.add(Dense(512, activation='relu'))\n",
    "    model.add(Dense(512, activation='relu'))\n",
    "    model.add(Dense(1))\n",
    "\n",
    "    model.compile(optimizer='adam',loss=root_mean_squared_error)\n",
    "    \n",
    "    return model"
   ]
  },
  {
   "cell_type": "code",
   "execution_count": 24,
   "id": "6d0b41a0",
   "metadata": {
    "execution": {
     "iopub.execute_input": "2023-01-06T17:24:36.711651Z",
     "iopub.status.busy": "2023-01-06T17:24:36.710748Z",
     "iopub.status.idle": "2023-01-06T17:24:36.716104Z",
     "shell.execute_reply": "2023-01-06T17:24:36.714981Z"
    },
    "papermill": {
     "duration": 0.026315,
     "end_time": "2023-01-06T17:24:36.718253",
     "exception": false,
     "start_time": "2023-01-06T17:24:36.691938",
     "status": "completed"
    },
    "tags": []
   },
   "outputs": [],
   "source": [
    "# models = []\n",
    "# rmses = []\n",
    "# kf = KFold(n_splits=10, random_state=42, shuffle=True)\n",
    "\n",
    "# for train_index, val_index in tqdm(kf.split(X)):\n",
    "#     X_train, X_val = X.iloc[train_index], X.iloc[val_index]\n",
    "#     y_train, y_val = y.iloc[train_index], y.iloc[val_index]\n",
    "    \n",
    "#     minmax = MinMaxScaler()\n",
    "#     X_train = minmax.fit_transform(X_train)\n",
    "#     X_val = minmax.transform(X_val)\n",
    "    \n",
    "#     model = create_nn_model()\n",
    "#     model.fit(X_train, y_train, batch_size=128, epochs=100, validation_data=(X_val, y_val))\n",
    "#     pred = model.predict(X_val)\n",
    "    \n",
    "#     models.append(model)\n",
    "#     rmses.append(mean_squared_error(y_val, pred, squared=False))"
   ]
  },
  {
   "cell_type": "markdown",
   "id": "282113a6",
   "metadata": {
    "papermill": {
     "duration": 0.016756,
     "end_time": "2023-01-06T17:24:36.752207",
     "exception": false,
     "start_time": "2023-01-06T17:24:36.735451",
     "status": "completed"
    },
    "tags": []
   },
   "source": [
    "Unfortunately, didn't work best, so as a final sumbmission let's ensemble CatBoost & LGBM only."
   ]
  },
  {
   "cell_type": "markdown",
   "id": "c4a04f15",
   "metadata": {
    "papermill": {
     "duration": 0.017038,
     "end_time": "2023-01-06T17:24:36.786403",
     "exception": false,
     "start_time": "2023-01-06T17:24:36.769365",
     "status": "completed"
    },
    "tags": []
   },
   "source": [
    "## Submission"
   ]
  },
  {
   "cell_type": "code",
   "execution_count": 25,
   "id": "65f2a870",
   "metadata": {
    "execution": {
     "iopub.execute_input": "2023-01-06T17:24:36.823407Z",
     "iopub.status.busy": "2023-01-06T17:24:36.822708Z",
     "iopub.status.idle": "2023-01-06T17:25:14.396878Z",
     "shell.execute_reply": "2023-01-06T17:25:14.395458Z"
    },
    "papermill": {
     "duration": 37.595383,
     "end_time": "2023-01-06T17:25:14.399505",
     "exception": false,
     "start_time": "2023-01-06T17:24:36.804122",
     "status": "completed"
    },
    "tags": []
   },
   "outputs": [],
   "source": [
    "test_df['admin2'] = test_df['admin2'].astype('category')\n",
    "test_pred = np.mean(np.stack([model.predict(test_df) for model in models]), axis=0)\n",
    "submission = pd.DataFrame(data={'id': submission_df.id, 'MedHouseVal': test_pred})\n",
    "submission.to_csv('submission.csv', index=False)"
   ]
  }
 ],
 "metadata": {
  "kernelspec": {
   "display_name": "Python 3",
   "language": "python",
   "name": "python3"
  },
  "language_info": {
   "codemirror_mode": {
    "name": "ipython",
    "version": 3
   },
   "file_extension": ".py",
   "mimetype": "text/x-python",
   "name": "python",
   "nbconvert_exporter": "python",
   "pygments_lexer": "ipython3",
   "version": "3.7.12"
  },
  "papermill": {
   "default_parameters": {},
   "duration": 3169.557365,
   "end_time": "2023-01-06T17:25:17.147897",
   "environment_variables": {},
   "exception": null,
   "input_path": "__notebook__.ipynb",
   "output_path": "__notebook__.ipynb",
   "parameters": {},
   "start_time": "2023-01-06T16:32:27.590532",
   "version": "2.3.4"
  },
  "widgets": {
   "application/vnd.jupyter.widget-state+json": {
    "state": {
     "08a255cf8b3346419b7ead58deee5b40": {
      "model_module": "@jupyter-widgets/controls",
      "model_module_version": "1.5.0",
      "model_name": "FloatProgressModel",
      "state": {
       "_dom_classes": [],
       "_model_module": "@jupyter-widgets/controls",
       "_model_module_version": "1.5.0",
       "_model_name": "FloatProgressModel",
       "_view_count": null,
       "_view_module": "@jupyter-widgets/controls",
       "_view_module_version": "1.5.0",
       "_view_name": "ProgressView",
       "bar_style": "success",
       "description": "",
       "description_tooltip": null,
       "layout": "IPY_MODEL_5c7f363583cc47e9969bdf6a631c5afe",
       "max": 5,
       "min": 0,
       "orientation": "horizontal",
       "style": "IPY_MODEL_6b74cf4294344b30a2d82c320f5976e0",
       "value": 5
      }
     },
     "2aaf40509e724e85add23f0c85a1a009": {
      "model_module": "@jupyter-widgets/controls",
      "model_module_version": "1.5.0",
      "model_name": "HTMLModel",
      "state": {
       "_dom_classes": [],
       "_model_module": "@jupyter-widgets/controls",
       "_model_module_version": "1.5.0",
       "_model_name": "HTMLModel",
       "_view_count": null,
       "_view_module": "@jupyter-widgets/controls",
       "_view_module_version": "1.5.0",
       "_view_name": "HTMLView",
       "description": "",
       "description_tooltip": null,
       "layout": "IPY_MODEL_4f989ee05beb40b1a5ae13d865c26e53",
       "placeholder": "​",
       "style": "IPY_MODEL_7c9720c458d346a1b2a32027b0f0627f",
       "value": " 103/103 [00:21&lt;00:00,  3.91it/s, Completed]"
      }
     },
     "4f989ee05beb40b1a5ae13d865c26e53": {
      "model_module": "@jupyter-widgets/base",
      "model_module_version": "1.2.0",
      "model_name": "LayoutModel",
      "state": {
       "_model_module": "@jupyter-widgets/base",
       "_model_module_version": "1.2.0",
       "_model_name": "LayoutModel",
       "_view_count": null,
       "_view_module": "@jupyter-widgets/base",
       "_view_module_version": "1.2.0",
       "_view_name": "LayoutView",
       "align_content": null,
       "align_items": null,
       "align_self": null,
       "border": null,
       "bottom": null,
       "display": null,
       "flex": null,
       "flex_flow": null,
       "grid_area": null,
       "grid_auto_columns": null,
       "grid_auto_flow": null,
       "grid_auto_rows": null,
       "grid_column": null,
       "grid_gap": null,
       "grid_row": null,
       "grid_template_areas": null,
       "grid_template_columns": null,
       "grid_template_rows": null,
       "height": null,
       "justify_content": null,
       "justify_items": null,
       "left": null,
       "margin": null,
       "max_height": null,
       "max_width": null,
       "min_height": null,
       "min_width": null,
       "object_fit": null,
       "object_position": null,
       "order": null,
       "overflow": null,
       "overflow_x": null,
       "overflow_y": null,
       "padding": null,
       "right": null,
       "top": null,
       "visibility": null,
       "width": null
      }
     },
     "5c7f363583cc47e9969bdf6a631c5afe": {
      "model_module": "@jupyter-widgets/base",
      "model_module_version": "1.2.0",
      "model_name": "LayoutModel",
      "state": {
       "_model_module": "@jupyter-widgets/base",
       "_model_module_version": "1.2.0",
       "_model_name": "LayoutModel",
       "_view_count": null,
       "_view_module": "@jupyter-widgets/base",
       "_view_module_version": "1.2.0",
       "_view_name": "LayoutView",
       "align_content": null,
       "align_items": null,
       "align_self": null,
       "border": null,
       "bottom": null,
       "display": null,
       "flex": null,
       "flex_flow": null,
       "grid_area": null,
       "grid_auto_columns": null,
       "grid_auto_flow": null,
       "grid_auto_rows": null,
       "grid_column": null,
       "grid_gap": null,
       "grid_row": null,
       "grid_template_areas": null,
       "grid_template_columns": null,
       "grid_template_rows": null,
       "height": null,
       "justify_content": null,
       "justify_items": null,
       "left": null,
       "margin": null,
       "max_height": null,
       "max_width": null,
       "min_height": null,
       "min_width": null,
       "object_fit": null,
       "object_position": null,
       "order": null,
       "overflow": null,
       "overflow_x": null,
       "overflow_y": null,
       "padding": null,
       "right": null,
       "top": null,
       "visibility": null,
       "width": null
      }
     },
     "62860c75f0844a2684e53b148762b932": {
      "model_module": "@jupyter-widgets/controls",
      "model_module_version": "1.5.0",
      "model_name": "HTMLModel",
      "state": {
       "_dom_classes": [],
       "_model_module": "@jupyter-widgets/controls",
       "_model_module_version": "1.5.0",
       "_model_name": "HTMLModel",
       "_view_count": null,
       "_view_module": "@jupyter-widgets/controls",
       "_view_module_version": "1.5.0",
       "_view_name": "HTMLView",
       "description": "",
       "description_tooltip": null,
       "layout": "IPY_MODEL_e0126194f0954679984c64ef9d575d73",
       "placeholder": "​",
       "style": "IPY_MODEL_643beb48674e4823b068b10f6d251ba0",
       "value": "Summarize dataset: 100%"
      }
     },
     "643beb48674e4823b068b10f6d251ba0": {
      "model_module": "@jupyter-widgets/controls",
      "model_module_version": "1.5.0",
      "model_name": "DescriptionStyleModel",
      "state": {
       "_model_module": "@jupyter-widgets/controls",
       "_model_module_version": "1.5.0",
       "_model_name": "DescriptionStyleModel",
       "_view_count": null,
       "_view_module": "@jupyter-widgets/base",
       "_view_module_version": "1.2.0",
       "_view_name": "StyleView",
       "description_width": ""
      }
     },
     "6b74cf4294344b30a2d82c320f5976e0": {
      "model_module": "@jupyter-widgets/controls",
      "model_module_version": "1.5.0",
      "model_name": "ProgressStyleModel",
      "state": {
       "_model_module": "@jupyter-widgets/controls",
       "_model_module_version": "1.5.0",
       "_model_name": "ProgressStyleModel",
       "_view_count": null,
       "_view_module": "@jupyter-widgets/base",
       "_view_module_version": "1.2.0",
       "_view_name": "StyleView",
       "bar_color": null,
       "description_width": ""
      }
     },
     "7c9720c458d346a1b2a32027b0f0627f": {
      "model_module": "@jupyter-widgets/controls",
      "model_module_version": "1.5.0",
      "model_name": "DescriptionStyleModel",
      "state": {
       "_model_module": "@jupyter-widgets/controls",
       "_model_module_version": "1.5.0",
       "_model_name": "DescriptionStyleModel",
       "_view_count": null,
       "_view_module": "@jupyter-widgets/base",
       "_view_module_version": "1.2.0",
       "_view_name": "StyleView",
       "description_width": ""
      }
     },
     "af1b3212aab34c56abbb0b0632744008": {
      "model_module": "@jupyter-widgets/base",
      "model_module_version": "1.2.0",
      "model_name": "LayoutModel",
      "state": {
       "_model_module": "@jupyter-widgets/base",
       "_model_module_version": "1.2.0",
       "_model_name": "LayoutModel",
       "_view_count": null,
       "_view_module": "@jupyter-widgets/base",
       "_view_module_version": "1.2.0",
       "_view_name": "LayoutView",
       "align_content": null,
       "align_items": null,
       "align_self": null,
       "border": null,
       "bottom": null,
       "display": null,
       "flex": null,
       "flex_flow": null,
       "grid_area": null,
       "grid_auto_columns": null,
       "grid_auto_flow": null,
       "grid_auto_rows": null,
       "grid_column": null,
       "grid_gap": null,
       "grid_row": null,
       "grid_template_areas": null,
       "grid_template_columns": null,
       "grid_template_rows": null,
       "height": null,
       "justify_content": null,
       "justify_items": null,
       "left": null,
       "margin": null,
       "max_height": null,
       "max_width": null,
       "min_height": null,
       "min_width": null,
       "object_fit": null,
       "object_position": null,
       "order": null,
       "overflow": null,
       "overflow_x": null,
       "overflow_y": null,
       "padding": null,
       "right": null,
       "top": null,
       "visibility": null,
       "width": null
      }
     },
     "c24b4b6393854ee19b739d863db78ad2": {
      "model_module": "@jupyter-widgets/controls",
      "model_module_version": "1.5.0",
      "model_name": "HBoxModel",
      "state": {
       "_dom_classes": [],
       "_model_module": "@jupyter-widgets/controls",
       "_model_module_version": "1.5.0",
       "_model_name": "HBoxModel",
       "_view_count": null,
       "_view_module": "@jupyter-widgets/controls",
       "_view_module_version": "1.5.0",
       "_view_name": "HBoxView",
       "box_style": "",
       "children": [
        "IPY_MODEL_62860c75f0844a2684e53b148762b932",
        "IPY_MODEL_08a255cf8b3346419b7ead58deee5b40",
        "IPY_MODEL_2aaf40509e724e85add23f0c85a1a009"
       ],
       "layout": "IPY_MODEL_af1b3212aab34c56abbb0b0632744008"
      }
     },
     "e0126194f0954679984c64ef9d575d73": {
      "model_module": "@jupyter-widgets/base",
      "model_module_version": "1.2.0",
      "model_name": "LayoutModel",
      "state": {
       "_model_module": "@jupyter-widgets/base",
       "_model_module_version": "1.2.0",
       "_model_name": "LayoutModel",
       "_view_count": null,
       "_view_module": "@jupyter-widgets/base",
       "_view_module_version": "1.2.0",
       "_view_name": "LayoutView",
       "align_content": null,
       "align_items": null,
       "align_self": null,
       "border": null,
       "bottom": null,
       "display": null,
       "flex": null,
       "flex_flow": null,
       "grid_area": null,
       "grid_auto_columns": null,
       "grid_auto_flow": null,
       "grid_auto_rows": null,
       "grid_column": null,
       "grid_gap": null,
       "grid_row": null,
       "grid_template_areas": null,
       "grid_template_columns": null,
       "grid_template_rows": null,
       "height": null,
       "justify_content": null,
       "justify_items": null,
       "left": null,
       "margin": null,
       "max_height": null,
       "max_width": null,
       "min_height": null,
       "min_width": null,
       "object_fit": null,
       "object_position": null,
       "order": null,
       "overflow": null,
       "overflow_x": null,
       "overflow_y": null,
       "padding": null,
       "right": null,
       "top": null,
       "visibility": null,
       "width": null
      }
     }
    },
    "version_major": 2,
    "version_minor": 0
   }
  }
 },
 "nbformat": 4,
 "nbformat_minor": 5
}
